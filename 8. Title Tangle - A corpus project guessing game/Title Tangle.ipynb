{
 "cells": [
  {
   "cell_type": "code",
   "execution_count": 60,
   "id": "8fcda959",
   "metadata": {},
   "outputs": [],
   "source": [
    "import pandas as pd\n",
    "from nltk.tokenize import word_tokenize, sent_tokenize\n",
    "from nltk.corpus import stopwords\n",
    "\n",
    "text = ''' Steven Paul Jobs was an American entrepreneur, business magnate, industrial designer, media proprietor, and investor. \n",
    "           He was the co-founder, chairman, and CEO of Apple; the chairman and majority shareholder of Pixar; a member of The \n",
    "           Walt Disney Company's board of directors following its acquisition of Pixar; and the founder, chairman, and CEO of \n",
    "           NeXT. He is widely recognized as a pioneer of the personal computer revolution of the 1970s and 1980s, along with \n",
    "           his early business partner and fellow Apple co-founder Steve Wozniak.\n",
    "\n",
    "           Steven Paul Jobs was born in San Francisco to a Syrian father and German-American mother. He was adopted shortly after his birth. \n",
    "           Jobs attended Reed College in 1972 before withdrawing that same year. In 1974, he traveled through India seeking \n",
    "           enlightenment before later studying Zen Buddhism. He and Wozniak co-founded Apple in 1976 to sell Wozniak's Apple \n",
    "           I personal computer. Together the duo gained fame and wealth a year later with production and sale of the Apple II, \n",
    "           one of the first highly successful mass-produced microcomputers. Jobs saw the commercial potential of the Xerox Alta \n",
    "           in 1979, which was mouse-driven and had a graphical user interface (GUI). This led to the development of the \n",
    "           unsuccessful Apple Lisa in 1983, followed by the breakthrough Macintosh in 1984, the first mass-produced computer \n",
    "           with a GUI. The Macintosh introduced the desktop publishing industry in 1985 with the addition of the Apple \n",
    "           Laserwriter, the first laser printer to feature vector graphics. '''"
   ]
  },
  {
   "cell_type": "markdown",
   "id": "63e9d541",
   "metadata": {},
   "source": [
    "## Removing stopwords and creating vocab"
   ]
  },
  {
   "cell_type": "code",
   "execution_count": 33,
   "id": "ae53828d",
   "metadata": {},
   "outputs": [],
   "source": [
    "words = []\n",
    "\n",
    "for word in word_tokenize(text):\n",
    "    if word.lower() not in stopwords.words('english') and len(word) > 1:\n",
    "        words.append(word.lower())\n",
    "        \n",
    "vocab = list(set(words))"
   ]
  },
  {
   "cell_type": "markdown",
   "id": "4647c510",
   "metadata": {},
   "source": [
    "## Creating count dictionary"
   ]
  },
  {
   "cell_type": "code",
   "execution_count": 44,
   "id": "4e9707d7",
   "metadata": {},
   "outputs": [],
   "source": [
    "word_freq = {}\n",
    "\n",
    "for word in vocab:\n",
    "    word_freq[word] = 0              # starting the inital count of all unique stopwords as 0"
   ]
  },
  {
   "cell_type": "markdown",
   "id": "3bf52d0c",
   "metadata": {},
   "source": [
    "## Count the frequency of words"
   ]
  },
  {
   "cell_type": "code",
   "execution_count": 63,
   "id": "c6b191da",
   "metadata": {},
   "outputs": [],
   "source": [
    "words = []\n",
    "\n",
    "for word in word_tokenize(text):\n",
    "    if word.lower() not in stopwords.words('english') and len(word) > 1:\n",
    "        words.append(word.lower())                                             # Getting words which are not stopwords\n",
    "\n",
    "for word in words:\n",
    "    word_freq[word] = word_freq[word] + 1                                      # Counting the occurence of each unique word"
   ]
  },
  {
   "cell_type": "markdown",
   "id": "dcdae392",
   "metadata": {},
   "source": [
    "## Creating dataframe for sorting"
   ]
  },
  {
   "cell_type": "code",
   "execution_count": 64,
   "id": "2ac8248f",
   "metadata": {},
   "outputs": [
    {
     "data": {
      "text/html": [
       "<div>\n",
       "<style scoped>\n",
       "    .dataframe tbody tr th:only-of-type {\n",
       "        vertical-align: middle;\n",
       "    }\n",
       "\n",
       "    .dataframe tbody tr th {\n",
       "        vertical-align: top;\n",
       "    }\n",
       "\n",
       "    .dataframe thead th {\n",
       "        text-align: right;\n",
       "    }\n",
       "</style>\n",
       "<table border=\"1\" class=\"dataframe\">\n",
       "  <thead>\n",
       "    <tr style=\"text-align: right;\">\n",
       "      <th></th>\n",
       "      <th>word</th>\n",
       "      <th>freq</th>\n",
       "    </tr>\n",
       "  </thead>\n",
       "  <tbody>\n",
       "    <tr>\n",
       "      <th>43</th>\n",
       "      <td>apple</td>\n",
       "      <td>14</td>\n",
       "    </tr>\n",
       "    <tr>\n",
       "      <th>24</th>\n",
       "      <td>jobs</td>\n",
       "      <td>8</td>\n",
       "    </tr>\n",
       "    <tr>\n",
       "      <th>66</th>\n",
       "      <td>computer</td>\n",
       "      <td>6</td>\n",
       "    </tr>\n",
       "    <tr>\n",
       "      <th>60</th>\n",
       "      <td>chairman</td>\n",
       "      <td>6</td>\n",
       "    </tr>\n",
       "    <tr>\n",
       "      <th>6</th>\n",
       "      <td>first</td>\n",
       "      <td>6</td>\n",
       "    </tr>\n",
       "  </tbody>\n",
       "</table>\n",
       "</div>"
      ],
      "text/plain": [
       "        word  freq\n",
       "43     apple    14\n",
       "24      jobs     8\n",
       "66  computer     6\n",
       "60  chairman     6\n",
       "6      first     6"
      ]
     },
     "execution_count": 64,
     "metadata": {},
     "output_type": "execute_result"
    }
   ],
   "source": [
    "data = []\n",
    "\n",
    "for key in word_freq.keys():\n",
    "    data.append([key, word_freq[key]])\n",
    "    \n",
    "df = pd.DataFrame(data, columns = ['word', 'freq'])           # Creating DataFrame df\n",
    "\n",
    "df.sort_values(by = 'freq', ascending=False).head()           # Filtering the words with maximum occurence"
   ]
  },
  {
   "cell_type": "markdown",
   "id": "6769e5ce",
   "metadata": {},
   "source": [
    "## Title for the given corpus"
   ]
  },
  {
   "cell_type": "code",
   "execution_count": 100,
   "id": "dd85add2",
   "metadata": {},
   "outputs": [
    {
     "data": {
      "text/html": [
       "<div>\n",
       "<style scoped>\n",
       "    .dataframe tbody tr th:only-of-type {\n",
       "        vertical-align: middle;\n",
       "    }\n",
       "\n",
       "    .dataframe tbody tr th {\n",
       "        vertical-align: top;\n",
       "    }\n",
       "\n",
       "    .dataframe thead th {\n",
       "        text-align: right;\n",
       "    }\n",
       "</style>\n",
       "<table border=\"1\" class=\"dataframe\">\n",
       "  <thead>\n",
       "    <tr style=\"text-align: right;\">\n",
       "      <th></th>\n",
       "      <th>word</th>\n",
       "      <th>freq</th>\n",
       "    </tr>\n",
       "  </thead>\n",
       "  <tbody>\n",
       "    <tr>\n",
       "      <th>43</th>\n",
       "      <td>apple</td>\n",
       "      <td>14</td>\n",
       "    </tr>\n",
       "    <tr>\n",
       "      <th>24</th>\n",
       "      <td>jobs</td>\n",
       "      <td>8</td>\n",
       "    </tr>\n",
       "    <tr>\n",
       "      <th>66</th>\n",
       "      <td>computer</td>\n",
       "      <td>6</td>\n",
       "    </tr>\n",
       "  </tbody>\n",
       "</table>\n",
       "</div>"
      ],
      "text/plain": [
       "        word  freq\n",
       "43     apple    14\n",
       "24      jobs     8\n",
       "66  computer     6"
      ]
     },
     "execution_count": 100,
     "metadata": {},
     "output_type": "execute_result"
    }
   ],
   "source": [
    "df_pr = df.sort_values(by = 'freq', ascending=False).head(3)     # Title may be the one among the top 3 maximum occuring words\n",
    "df_pr                                                            # in the text"
   ]
  },
  {
   "cell_type": "code",
   "execution_count": null,
   "id": "cec6bcd8",
   "metadata": {},
   "outputs": [],
   "source": []
  }
 ],
 "metadata": {
  "kernelspec": {
   "display_name": "Python 3 (ipykernel)",
   "language": "python",
   "name": "python3"
  },
  "language_info": {
   "codemirror_mode": {
    "name": "ipython",
    "version": 3
   },
   "file_extension": ".py",
   "mimetype": "text/x-python",
   "name": "python",
   "nbconvert_exporter": "python",
   "pygments_lexer": "ipython3",
   "version": "3.9.7"
  }
 },
 "nbformat": 4,
 "nbformat_minor": 5
}

{
 "cells": [
  {
   "cell_type": "code",
   "execution_count": 8,
   "id": "474ce36d",
   "metadata": {},
   "outputs": [
    {
     "name": "stdout",
     "output_type": "stream",
     "text": [
      "ashish@gmail.com\n",
      "ashish@geeksforgeeks.org\n",
      "ashish@orkut.com\n",
      "ashish@yahoo.com\n",
      "ashish.jangra@geeksforgeeks.org\n",
      "ashish@gfg.co.in\n",
      "ashish@aap.gov.in\n",
      "aj@gmail.co.org.in\n"
     ]
    }
   ],
   "source": [
    "mails = ['ashish@gmail.com','ashish@geeksforgeeks.org',\n",
    "         'ashish@orkut.com','ashish@yahoo.com',\n",
    "         'ashish.jangra@geeksforgeeks.org','ashish@gfg.co.in',\n",
    "         'ashish@aap.gov.in','aj@gmail.co.org.in']\n",
    "\n",
    "for mail in mails:\n",
    "    print(mail)"
   ]
  },
  {
   "cell_type": "markdown",
   "id": "c9d94f5e",
   "metadata": {},
   "source": [
    "user_ID + @ + host_name + domain_type"
   ]
  },
  {
   "cell_type": "code",
   "execution_count": 26,
   "id": "a243bcca",
   "metadata": {},
   "outputs": [],
   "source": [
    "user_ID = []\n",
    "host_name = []\n",
    "domain_name = []\n",
    "\n",
    "for mail in mails:\n",
    "    user_ID.append(mail.split('@')[0])\n",
    "    host_name.append(mail.split('@')[1].split('.')[0])\n",
    "    domain_name.append('.'.join(mail.split('@')[1].split('.')[1:]))"
   ]
  },
  {
   "cell_type": "code",
   "execution_count": 27,
   "id": "8e9328e6",
   "metadata": {},
   "outputs": [
    {
     "name": "stdout",
     "output_type": "stream",
     "text": [
      "['ashish', 'ashish', 'ashish', 'ashish', 'ashish.jangra', 'ashish', 'ashish', 'aj']\n",
      "['gmail', 'geeksforgeeks', 'orkut', 'yahoo', 'geeksforgeeks', 'gfg', 'aap', 'gmail']\n",
      "['com', 'org', 'com', 'com', 'org', 'co.in', 'gov.in', 'co.org.in']\n"
     ]
    }
   ],
   "source": [
    "print(user_ID)\n",
    "print(host_name)\n",
    "print(domain_name)"
   ]
  },
  {
   "cell_type": "code",
   "execution_count": null,
   "id": "6b61aa0a",
   "metadata": {},
   "outputs": [],
   "source": []
  }
 ],
 "metadata": {
  "kernelspec": {
   "display_name": "Python 3 (ipykernel)",
   "language": "python",
   "name": "python3"
  },
  "language_info": {
   "codemirror_mode": {
    "name": "ipython",
    "version": 3
   },
   "file_extension": ".py",
   "mimetype": "text/x-python",
   "name": "python",
   "nbconvert_exporter": "python",
   "pygments_lexer": "ipython3",
   "version": "3.9.7"
  }
 },
 "nbformat": 4,
 "nbformat_minor": 5
}

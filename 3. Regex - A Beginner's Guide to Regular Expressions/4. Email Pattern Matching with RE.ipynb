{
 "cells": [
  {
   "cell_type": "code",
   "execution_count": 3,
   "id": "9bda298b",
   "metadata": {},
   "outputs": [],
   "source": [
    "import re"
   ]
  },
  {
   "cell_type": "code",
   "execution_count": 21,
   "id": "d3f906ba",
   "metadata": {},
   "outputs": [],
   "source": [
    "mail1 = 'eshant@gfg.org'\n",
    "mail = 'ashish@gfg.org'\n",
    "p = '[A-Za-z0-9]+@[\\w].+[\\w]+'"
   ]
  },
  {
   "cell_type": "code",
   "execution_count": 22,
   "id": "627ab109",
   "metadata": {},
   "outputs": [
    {
     "data": {
      "text/plain": [
       "<re.Match object; span=(0, 14), match='eshant@gfg.org'>"
      ]
     },
     "execution_count": 22,
     "metadata": {},
     "output_type": "execute_result"
    }
   ],
   "source": [
    "re.search(p, mail1)"
   ]
  },
  {
   "cell_type": "markdown",
   "id": "18fcd686",
   "metadata": {},
   "source": [
    "Check"
   ]
  },
  {
   "cell_type": "code",
   "execution_count": 29,
   "id": "d3ac7d7d",
   "metadata": {},
   "outputs": [
    {
     "data": {
      "text/plain": [
       "'harsh@en.com'"
      ]
     },
     "execution_count": 29,
     "metadata": {},
     "output_type": "execute_result"
    }
   ],
   "source": [
    "re.search(p, 'harsh@en.com').group()"
   ]
  },
  {
   "cell_type": "markdown",
   "id": "7208d14c",
   "metadata": {},
   "source": [
    "## Email ID with specific Domain"
   ]
  },
  {
   "cell_type": "code",
   "execution_count": 33,
   "id": "cec5d964",
   "metadata": {},
   "outputs": [
    {
     "data": {
      "text/plain": [
       "<re.Match object; span=(0, 14), match='ashish@gfg.org'>"
      ]
     },
     "execution_count": 33,
     "metadata": {},
     "output_type": "execute_result"
    }
   ],
   "source": [
    "mail = 'ashish@gfg.org'\n",
    "p = '[A-Za-z0-9]+@(gfg).(org)$'\n",
    "\n",
    "re.search(p, mail)"
   ]
  },
  {
   "cell_type": "markdown",
   "id": "854c0ee2",
   "metadata": {},
   "source": [
    "## Email ID with multiple Selected Domain"
   ]
  },
  {
   "cell_type": "code",
   "execution_count": 37,
   "id": "875946df",
   "metadata": {},
   "outputs": [
    {
     "data": {
      "text/plain": [
       "<re.Match object; span=(0, 14), match='ashish@gfg.org'>"
      ]
     },
     "execution_count": 37,
     "metadata": {},
     "output_type": "execute_result"
    }
   ],
   "source": [
    "mail = 'ashish@gfg.org'\n",
    "p = '[A-Za-z0-9]+@[\\w]+.(org|edu|gov|net)'\n",
    "\n",
    "re.search(p, mail)"
   ]
  },
  {
   "cell_type": "code",
   "execution_count": 25,
   "id": "26cd082f",
   "metadata": {},
   "outputs": [
    {
     "name": "stdout",
     "output_type": "stream",
     "text": [
      "None\n"
     ]
    }
   ],
   "source": [
    "mail1 = 'eshant@gfg.org'\n",
    "p = r'[A-Za-z0-9.]+@w+.w{3}'\n",
    "\n",
    "print(re.search(p, mail1))"
   ]
  },
  {
   "cell_type": "code",
   "execution_count": null,
   "id": "2dc4652b",
   "metadata": {},
   "outputs": [],
   "source": []
  }
 ],
 "metadata": {
  "kernelspec": {
   "display_name": "Python 3 (ipykernel)",
   "language": "python",
   "name": "python3"
  },
  "language_info": {
   "codemirror_mode": {
    "name": "ipython",
    "version": 3
   },
   "file_extension": ".py",
   "mimetype": "text/x-python",
   "name": "python",
   "nbconvert_exporter": "python",
   "pygments_lexer": "ipython3",
   "version": "3.9.7"
  }
 },
 "nbformat": 4,
 "nbformat_minor": 5
}

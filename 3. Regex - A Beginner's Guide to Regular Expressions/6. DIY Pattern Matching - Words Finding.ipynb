{
 "cells": [
  {
   "cell_type": "code",
   "execution_count": 14,
   "id": "5b3e7721",
   "metadata": {},
   "outputs": [
    {
     "name": "stdout",
     "output_type": "stream",
     "text": [
      "13 16\n",
      "49 52\n"
     ]
    }
   ],
   "source": [
    "txt = 'AI is having the capability to revolutionize all the industries.'\n",
    "\n",
    "word = 'the'\n",
    "\n",
    "for i in range(len(txt)):\n",
    "    if(txt[i : i+len(word)] == word):\n",
    "        print(i, i+len(word))"
   ]
  },
  {
   "cell_type": "code",
   "execution_count": 15,
   "id": "b96906dc",
   "metadata": {},
   "outputs": [
    {
     "name": "stdout",
     "output_type": "stream",
     "text": [
      "13 16\n",
      "49 52\n",
      "65 68\n"
     ]
    }
   ],
   "source": [
    "txt = 'AI is having the capability to revolutionize all the industries. THe industry is ready for a big change.'.lower()\n",
    "\n",
    "word = 'the'.lower()\n",
    "\n",
    "for i in range(len(txt)):\n",
    "    if(txt[i : i+len(word)] == word):\n",
    "        print(i, i+len(word))"
   ]
  },
  {
   "cell_type": "code",
   "execution_count": 18,
   "id": "575f8c29",
   "metadata": {},
   "outputs": [
    {
     "data": {
      "text/plain": [
       "True"
      ]
     },
     "execution_count": 18,
     "metadata": {},
     "output_type": "execute_result"
    }
   ],
   "source": [
    "'having' in txt"
   ]
  },
  {
   "cell_type": "code",
   "execution_count": null,
   "id": "21f26a69",
   "metadata": {},
   "outputs": [],
   "source": []
  }
 ],
 "metadata": {
  "kernelspec": {
   "display_name": "Python 3 (ipykernel)",
   "language": "python",
   "name": "python3"
  },
  "language_info": {
   "codemirror_mode": {
    "name": "ipython",
    "version": 3
   },
   "file_extension": ".py",
   "mimetype": "text/x-python",
   "name": "python",
   "nbconvert_exporter": "python",
   "pygments_lexer": "ipython3",
   "version": "3.9.7"
  }
 },
 "nbformat": 4,
 "nbformat_minor": 5
}

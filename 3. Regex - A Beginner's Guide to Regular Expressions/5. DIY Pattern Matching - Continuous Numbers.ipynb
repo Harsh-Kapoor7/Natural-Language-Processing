{
 "cells": [
  {
   "cell_type": "markdown",
   "id": "d8a805a6",
   "metadata": {},
   "source": [
    "## 1. Continous Numbers"
   ]
  },
  {
   "cell_type": "code",
   "execution_count": 11,
   "id": "f9eb059c",
   "metadata": {},
   "outputs": [
    {
     "name": "stdout",
     "output_type": "stream",
     "text": [
      "8372493\n",
      "423423\n"
     ]
    }
   ],
   "source": [
    "txt = 'The number is 8372493 and not 423423'\n",
    "\n",
    "index = []\n",
    "\n",
    "c = 0\n",
    "for i in range(len(txt)):\n",
    "    if(txt[i].isdigit()):\n",
    "        if(c == 0):\n",
    "            start = i\n",
    "        c += 1\n",
    "    else:\n",
    "        if(c != 0):\n",
    "            end = i\n",
    "            print(txt[start:end])      \n",
    "        c = 0\n",
    "\n",
    "if(c != 0):\n",
    "    print(txt[-c:])"
   ]
  },
  {
   "cell_type": "markdown",
   "id": "2b161cae",
   "metadata": {},
   "source": [
    "## 2. Words starting from specific characters"
   ]
  },
  {
   "cell_type": "code",
   "execution_count": null,
   "id": "b3f2a460",
   "metadata": {},
   "outputs": [],
   "source": []
  },
  {
   "cell_type": "markdown",
   "id": "3fbb10d8",
   "metadata": {},
   "source": [
    "## 3. Email Extraction"
   ]
  },
  {
   "cell_type": "code",
   "execution_count": null,
   "id": "570c9c5d",
   "metadata": {},
   "outputs": [],
   "source": []
  }
 ],
 "metadata": {
  "kernelspec": {
   "display_name": "Python 3 (ipykernel)",
   "language": "python",
   "name": "python3"
  },
  "language_info": {
   "codemirror_mode": {
    "name": "ipython",
    "version": 3
   },
   "file_extension": ".py",
   "mimetype": "text/x-python",
   "name": "python",
   "nbconvert_exporter": "python",
   "pygments_lexer": "ipython3",
   "version": "3.9.7"
  }
 },
 "nbformat": 4,
 "nbformat_minor": 5
}

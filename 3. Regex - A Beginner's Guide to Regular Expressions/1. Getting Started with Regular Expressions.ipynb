{
 "cells": [
  {
   "cell_type": "code",
   "execution_count": 1,
   "id": "b01b1c5b",
   "metadata": {},
   "outputs": [],
   "source": [
    "import re"
   ]
  },
  {
   "cell_type": "markdown",
   "id": "e9eb9795",
   "metadata": {},
   "source": [
    "## 1. Searching only for once"
   ]
  },
  {
   "cell_type": "code",
   "execution_count": 4,
   "id": "fabe8af3",
   "metadata": {},
   "outputs": [
    {
     "data": {
      "text/plain": [
       "<re.Match object; span=(15, 18), match='you'>"
      ]
     },
     "execution_count": 4,
     "metadata": {},
     "output_type": "execute_result"
    }
   ],
   "source": [
    "srch = re.search('you', 'Hello, how are you ?')\n",
    "srch"
   ]
  },
  {
   "cell_type": "code",
   "execution_count": 5,
   "id": "e7432378",
   "metadata": {},
   "outputs": [
    {
     "data": {
      "text/plain": [
       "(15, 18)"
      ]
     },
     "execution_count": 5,
     "metadata": {},
     "output_type": "execute_result"
    }
   ],
   "source": [
    "srch.span()"
   ]
  },
  {
   "cell_type": "code",
   "execution_count": 6,
   "id": "ffe82318",
   "metadata": {},
   "outputs": [
    {
     "name": "stdout",
     "output_type": "stream",
     "text": [
      "15\n",
      "18\n"
     ]
    }
   ],
   "source": [
    "print(srch.start())\n",
    "print(srch.end())"
   ]
  },
  {
   "cell_type": "markdown",
   "id": "ba18d3d0",
   "metadata": {},
   "source": [
    "## 2. Find all "
   ]
  },
  {
   "cell_type": "code",
   "execution_count": 11,
   "id": "69ba64de",
   "metadata": {},
   "outputs": [
    {
     "data": {
      "text/plain": [
       "3"
      ]
     },
     "execution_count": 11,
     "metadata": {},
     "output_type": "execute_result"
    }
   ],
   "source": [
    "a = 'Hello, how are are area you ?'\n",
    "b = 'are'\n",
    "\n",
    "len(re.findall(b, a))"
   ]
  },
  {
   "cell_type": "markdown",
   "id": "47c90d65",
   "metadata": {},
   "source": [
    "## 3. Finditer"
   ]
  },
  {
   "cell_type": "code",
   "execution_count": 15,
   "id": "a02c5322",
   "metadata": {},
   "outputs": [
    {
     "name": "stdout",
     "output_type": "stream",
     "text": [
      "(11, 14)\n",
      "(15, 18)\n",
      "(19, 22)\n"
     ]
    }
   ],
   "source": [
    "for s in re.finditer('are', 'Hello, how are are area you ?'):\n",
    "    print(s.span())"
   ]
  },
  {
   "cell_type": "code",
   "execution_count": 16,
   "id": "9b41f11c",
   "metadata": {},
   "outputs": [
    {
     "data": {
      "text/plain": [
       "(19, 22)"
      ]
     },
     "execution_count": 16,
     "metadata": {},
     "output_type": "execute_result"
    }
   ],
   "source": [
    "s.span()"
   ]
  },
  {
   "cell_type": "markdown",
   "id": "7fd6226f",
   "metadata": {},
   "source": [
    "## 4. Creating Regular Expressions"
   ]
  },
  {
   "cell_type": "code",
   "execution_count": 19,
   "id": "98d1cd07",
   "metadata": {},
   "outputs": [
    {
     "data": {
      "text/plain": [
       "<re.Match object; span=(23, 35), match='834-4324-345'>"
      ]
     },
     "execution_count": 19,
     "metadata": {},
     "output_type": "execute_result"
    }
   ],
   "source": [
    "txt = 'My Telephone number is 834-4324-345'\n",
    "pattern = '\\d\\d\\d-\\d\\d\\d\\d-\\d\\d\\d'\n",
    "\n",
    "re.search(pattern, txt)"
   ]
  },
  {
   "cell_type": "code",
   "execution_count": 24,
   "id": "04f5234a",
   "metadata": {},
   "outputs": [
    {
     "data": {
      "text/plain": [
       "'834-4324-345'"
      ]
     },
     "execution_count": 24,
     "metadata": {},
     "output_type": "execute_result"
    }
   ],
   "source": [
    "txt = 'My Telephone number is 834-4324-345'\n",
    "pattern = '\\d{3}-\\d{4}-\\d{3}'\n",
    "\n",
    "re.search(pattern, txt).group()"
   ]
  },
  {
   "cell_type": "code",
   "execution_count": null,
   "id": "f0fdb382",
   "metadata": {},
   "outputs": [],
   "source": []
  }
 ],
 "metadata": {
  "kernelspec": {
   "display_name": "Python 3 (ipykernel)",
   "language": "python",
   "name": "python3"
  },
  "language_info": {
   "codemirror_mode": {
    "name": "ipython",
    "version": 3
   },
   "file_extension": ".py",
   "mimetype": "text/x-python",
   "name": "python",
   "nbconvert_exporter": "python",
   "pygments_lexer": "ipython3",
   "version": "3.9.7"
  }
 },
 "nbformat": 4,
 "nbformat_minor": 5
}

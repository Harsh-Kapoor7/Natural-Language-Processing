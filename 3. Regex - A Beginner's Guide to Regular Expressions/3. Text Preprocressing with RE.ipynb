{
 "cells": [
  {
   "cell_type": "code",
   "execution_count": 1,
   "id": "8841ba12",
   "metadata": {},
   "outputs": [],
   "source": [
    "import re"
   ]
  },
  {
   "cell_type": "markdown",
   "id": "229647ee",
   "metadata": {},
   "source": [
    "## 1. Removing the Special Characters"
   ]
  },
  {
   "cell_type": "code",
   "execution_count": 9,
   "id": "97d45f31",
   "metadata": {},
   "outputs": [],
   "source": [
    "txt = 'Eshant is hap%py! But, wh$y is he not playing ?'"
   ]
  },
  {
   "cell_type": "code",
   "execution_count": 14,
   "id": "7da8dbf3",
   "metadata": {},
   "outputs": [
    {
     "data": {
      "text/plain": [
       "'Eshant is happy But, why is he not playing '"
      ]
     },
     "execution_count": 14,
     "metadata": {},
     "output_type": "execute_result"
    }
   ],
   "source": [
    "''.join(re.findall('[^!%$5?]+', txt))"
   ]
  },
  {
   "cell_type": "code",
   "execution_count": null,
   "id": "da81c8d9",
   "metadata": {},
   "outputs": [],
   "source": []
  },
  {
   "cell_type": "markdown",
   "id": "604d097e",
   "metadata": {},
   "source": [
    "## 2. Exclusion"
   ]
  },
  {
   "cell_type": "code",
   "execution_count": 24,
   "id": "37c44260",
   "metadata": {},
   "outputs": [],
   "source": [
    "txt = \"I'm Harsh Kapoor and 21\""
   ]
  },
  {
   "cell_type": "code",
   "execution_count": 25,
   "id": "49b5258e",
   "metadata": {},
   "outputs": [
    {
     "data": {
      "text/plain": [
       "['2', '1']"
      ]
     },
     "execution_count": 25,
     "metadata": {},
     "output_type": "execute_result"
    }
   ],
   "source": [
    "re.findall('\\d', txt)"
   ]
  },
  {
   "cell_type": "code",
   "execution_count": 26,
   "id": "d4dcc946",
   "metadata": {},
   "outputs": [
    {
     "data": {
      "text/plain": [
       "\"I'm Harsh Kapoor and \""
      ]
     },
     "execution_count": 26,
     "metadata": {},
     "output_type": "execute_result"
    }
   ],
   "source": [
    "''.join(re.findall('\\D', txt))"
   ]
  },
  {
   "cell_type": "markdown",
   "id": "92396e88",
   "metadata": {},
   "source": [
    "## 3. Finding Patterns link Geeks-For-Geeks"
   ]
  },
  {
   "cell_type": "code",
   "execution_count": 32,
   "id": "ff228ced",
   "metadata": {},
   "outputs": [],
   "source": [
    "txt = \"Hello I am studying from Geeks-for-Geeks and it is amazing. Let's see this work-it-out.\""
   ]
  },
  {
   "cell_type": "code",
   "execution_count": 37,
   "id": "c721ddf9",
   "metadata": {},
   "outputs": [
    {
     "data": {
      "text/plain": [
       "['Geeks-for-Geeks', 'work-it-out']"
      ]
     },
     "execution_count": 37,
     "metadata": {},
     "output_type": "execute_result"
    }
   ],
   "source": [
    "re.findall('[\\w]+-[\\w]+-[\\w]+', txt)"
   ]
  },
  {
   "cell_type": "markdown",
   "id": "4dee8ba3",
   "metadata": {},
   "source": [
    "## 4. Phone no. Pattern Matching"
   ]
  },
  {
   "cell_type": "code",
   "execution_count": 51,
   "id": "52252dc1",
   "metadata": {},
   "outputs": [
    {
     "name": "stdout",
     "output_type": "stream",
     "text": [
      "68466584862\n",
      "6521536589\n",
      "4845963756\n"
     ]
    }
   ],
   "source": [
    "for no in ['6846-658-4862','652-153-6589','48-45963-756']:\n",
    "    print(str(re.findall('[\\d]+-[\\d]+-[\\d]+', no)[0]).replace('-',''))"
   ]
  },
  {
   "cell_type": "code",
   "execution_count": null,
   "id": "e609a55e",
   "metadata": {},
   "outputs": [],
   "source": []
  }
 ],
 "metadata": {
  "kernelspec": {
   "display_name": "Python 3 (ipykernel)",
   "language": "python",
   "name": "python3"
  },
  "language_info": {
   "codemirror_mode": {
    "name": "ipython",
    "version": 3
   },
   "file_extension": ".py",
   "mimetype": "text/x-python",
   "name": "python",
   "nbconvert_exporter": "python",
   "pygments_lexer": "ipython3",
   "version": "3.9.7"
  }
 },
 "nbformat": 4,
 "nbformat_minor": 5
}

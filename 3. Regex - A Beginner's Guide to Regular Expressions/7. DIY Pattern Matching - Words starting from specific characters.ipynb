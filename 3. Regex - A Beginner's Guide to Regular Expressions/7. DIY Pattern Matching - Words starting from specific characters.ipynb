{
 "cells": [
  {
   "cell_type": "markdown",
   "id": "5c22a1c6",
   "metadata": {},
   "source": [
    "## 1. Word starting from specific Characters"
   ]
  },
  {
   "cell_type": "code",
   "execution_count": 6,
   "id": "bce751d8",
   "metadata": {},
   "outputs": [],
   "source": [
    "txt = 'AI is having the capability to change the whole industries. The Industry is ready for a big change.'\n",
    "word = 'in'"
   ]
  },
  {
   "cell_type": "code",
   "execution_count": 7,
   "id": "3d6d22a8",
   "metadata": {},
   "outputs": [
    {
     "name": "stdout",
     "output_type": "stream",
     "text": [
      "industries.\n",
      "Industry\n"
     ]
    }
   ],
   "source": [
    "for wrd in txt.split(' '):\n",
    "    if(wrd[:2].lower() == word.lower()):\n",
    "        print(wrd)"
   ]
  },
  {
   "cell_type": "markdown",
   "id": "a47eee34",
   "metadata": {},
   "source": [
    "## 2. Word ending with specific characters"
   ]
  },
  {
   "cell_type": "code",
   "execution_count": 15,
   "id": "8d8fd8ac",
   "metadata": {},
   "outputs": [
    {
     "name": "stdout",
     "output_type": "stream",
     "text": [
      "the\n",
      "the\n",
      "The\n"
     ]
    }
   ],
   "source": [
    "txt = 'AI is having the capability to change the whole industries. The Industry is ready for a big change.'\n",
    "word = 'he'\n",
    "\n",
    "for wrd in txt.split(' '):\n",
    "    if(wrd[-2:].lower() == word.lower()):\n",
    "        print(wrd)"
   ]
  },
  {
   "cell_type": "code",
   "execution_count": null,
   "id": "c809f6ef",
   "metadata": {},
   "outputs": [],
   "source": []
  }
 ],
 "metadata": {
  "kernelspec": {
   "display_name": "Python 3 (ipykernel)",
   "language": "python",
   "name": "python3"
  },
  "language_info": {
   "codemirror_mode": {
    "name": "ipython",
    "version": 3
   },
   "file_extension": ".py",
   "mimetype": "text/x-python",
   "name": "python",
   "nbconvert_exporter": "python",
   "pygments_lexer": "ipython3",
   "version": "3.9.7"
  }
 },
 "nbformat": 4,
 "nbformat_minor": 5
}

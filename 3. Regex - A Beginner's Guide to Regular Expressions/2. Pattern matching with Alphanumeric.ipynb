{
 "cells": [
  {
   "cell_type": "code",
   "execution_count": 1,
   "id": "6cf57713",
   "metadata": {},
   "outputs": [],
   "source": [
    "import re"
   ]
  },
  {
   "cell_type": "markdown",
   "id": "d5e2115a",
   "metadata": {},
   "source": [
    "## 1. Finding pattern with specific ending"
   ]
  },
  {
   "cell_type": "code",
   "execution_count": 4,
   "id": "b096fe60",
   "metadata": {},
   "outputs": [
    {
     "data": {
      "text/plain": [
       "['at', 'at', 'at', 'at', 'at']"
      ]
     },
     "execution_count": 4,
     "metadata": {},
     "output_type": "execute_result"
    }
   ],
   "source": [
    "re.findall('at', 'The rat sat on the mat and attacked by a cat.')"
   ]
  },
  {
   "cell_type": "code",
   "execution_count": 9,
   "id": "86235acc",
   "metadata": {},
   "outputs": [
    {
     "data": {
      "text/plain": [
       "['rat', 'sat', 'mat', ' at', 'cat']"
      ]
     },
     "execution_count": 9,
     "metadata": {},
     "output_type": "execute_result"
    }
   ],
   "source": [
    "re.findall('.at', 'The rat sat on the mat and attacked by a cat.')"
   ]
  },
  {
   "cell_type": "markdown",
   "id": "18d74413",
   "metadata": {},
   "source": [
    "## 2. Start and End Pattern matching"
   ]
  },
  {
   "cell_type": "code",
   "execution_count": 14,
   "id": "77b6752b",
   "metadata": {},
   "outputs": [
    {
     "data": {
      "text/plain": [
       "['3']"
      ]
     },
     "execution_count": 14,
     "metadata": {},
     "output_type": "execute_result"
    }
   ],
   "source": [
    "re.findall('\\d$', '4 is divisible by 2 and not by 3')"
   ]
  },
  {
   "cell_type": "code",
   "execution_count": 15,
   "id": "f06dac20",
   "metadata": {},
   "outputs": [
    {
     "data": {
      "text/plain": [
       "['4']"
      ]
     },
     "execution_count": 15,
     "metadata": {},
     "output_type": "execute_result"
    }
   ],
   "source": [
    "re.findall('^\\d', '4 is divisible by 2 and not by 3')"
   ]
  },
  {
   "cell_type": "code",
   "execution_count": 16,
   "id": "689910a6",
   "metadata": {},
   "outputs": [
    {
     "data": {
      "text/plain": [
       "[]"
      ]
     },
     "execution_count": 16,
     "metadata": {},
     "output_type": "execute_result"
    }
   ],
   "source": [
    "re.findall('^\\d', 'Is 4 divisible by 2 and not by 3')"
   ]
  },
  {
   "cell_type": "markdown",
   "id": "bcdc0acb",
   "metadata": {},
   "source": [
    "## 3. Finding Capital Letters"
   ]
  },
  {
   "cell_type": "code",
   "execution_count": 18,
   "id": "cf178c14",
   "metadata": {},
   "outputs": [
    {
     "data": {
      "text/plain": [
       "['W', 'G', 'F', 'G']"
      ]
     },
     "execution_count": 18,
     "metadata": {},
     "output_type": "execute_result"
    }
   ],
   "source": [
    "re.findall('[A-Z]', 'Welcome to GFG')"
   ]
  },
  {
   "cell_type": "markdown",
   "id": "6e355d8a",
   "metadata": {},
   "source": [
    "## 4. Finding small Letters"
   ]
  },
  {
   "cell_type": "code",
   "execution_count": 21,
   "id": "f8da605a",
   "metadata": {},
   "outputs": [
    {
     "data": {
      "text/plain": [
       "['e', 'l', 'c', 'o', 'm', 'e', 't', 'o']"
      ]
     },
     "execution_count": 21,
     "metadata": {},
     "output_type": "execute_result"
    }
   ],
   "source": [
    "re.findall('[a-z]', 'Welcome to GFG')"
   ]
  },
  {
   "cell_type": "markdown",
   "id": "0ecc8844",
   "metadata": {},
   "source": [
    "## 5. Finding both Capital and Small Letters "
   ]
  },
  {
   "cell_type": "code",
   "execution_count": 22,
   "id": "62e1a08c",
   "metadata": {},
   "outputs": [
    {
     "data": {
      "text/plain": [
       "['W', 'e', 'l', 'c', 'o', 'm', 'e', 't', 'o', 'G', 'F', 'G']"
      ]
     },
     "execution_count": 22,
     "metadata": {},
     "output_type": "execute_result"
    }
   ],
   "source": [
    "re.findall('[A-Za-z]', 'Welcome to GFG')"
   ]
  },
  {
   "cell_type": "markdown",
   "id": "7e932de4",
   "metadata": {},
   "source": [
    "## 6. Finding Upper case, Lower case and numbers"
   ]
  },
  {
   "cell_type": "code",
   "execution_count": 29,
   "id": "a2590ec5",
   "metadata": {},
   "outputs": [
    {
     "data": {
      "text/plain": [
       "['1', '2']"
      ]
     },
     "execution_count": 29,
     "metadata": {},
     "output_type": "execute_result"
    }
   ],
   "source": [
    "re.findall('[0-9]', 'Welcome to GFG 12')"
   ]
  }
 ],
 "metadata": {
  "kernelspec": {
   "display_name": "Python 3 (ipykernel)",
   "language": "python",
   "name": "python3"
  },
  "language_info": {
   "codemirror_mode": {
    "name": "ipython",
    "version": 3
   },
   "file_extension": ".py",
   "mimetype": "text/x-python",
   "name": "python",
   "nbconvert_exporter": "python",
   "pygments_lexer": "ipython3",
   "version": "3.9.7"
  }
 },
 "nbformat": 4,
 "nbformat_minor": 5
}

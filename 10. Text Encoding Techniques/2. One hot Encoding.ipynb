{
 "cells": [
  {
   "cell_type": "markdown",
   "id": "3c18f128",
   "metadata": {},
   "source": [
    "# <font color = 'red'>1. <u>One Hot Encoding - from Scratch</u></font>"
   ]
  },
  {
   "cell_type": "code",
   "execution_count": 39,
   "id": "ad243754",
   "metadata": {},
   "outputs": [
    {
     "data": {
      "text/plain": [
       "'GeeksForGeeks is not a website or a company. GeeksForGeeks is a coding environment. Thats why I love it. Which is good not bad at all.'"
      ]
     },
     "execution_count": 39,
     "metadata": {},
     "output_type": "execute_result"
    }
   ],
   "source": [
    "import pandas as pd\n",
    "from nltk.tokenize import word_tokenize, sent_tokenize\n",
    "\n",
    "text = 'GeeksForGeeks is not a website or a company. GeeksForGeeks is a coding environment. Thats why I love it. Which is good not bad at all.'\n",
    "text"
   ]
  },
  {
   "cell_type": "markdown",
   "id": "278750eb",
   "metadata": {},
   "source": [
    "## 1.1 Finding the sequence"
   ]
  },
  {
   "cell_type": "code",
   "execution_count": 40,
   "id": "6b849a9a",
   "metadata": {},
   "outputs": [
    {
     "name": "stdout",
     "output_type": "stream",
     "text": [
      "['environment', 'GeeksForGeeks', 'good', 'at', 'all', 'is', 'Thats', 'or', 'not', 'bad', 'a', 'website', 'I', 'love', 'company', 'it', 'Which', 'why', 'coding']\n"
     ]
    }
   ],
   "source": [
    "seq = set()\n",
    "\n",
    "for word in word_tokenize(text):\n",
    "    if word != '.':\n",
    "        seq.add(word)\n",
    "        \n",
    "seq = list(seq)\n",
    "print(seq)"
   ]
  },
  {
   "cell_type": "code",
   "execution_count": 41,
   "id": "a7ec4eef",
   "metadata": {},
   "outputs": [
    {
     "data": {
      "text/plain": [
       "1"
      ]
     },
     "execution_count": 41,
     "metadata": {},
     "output_type": "execute_result"
    }
   ],
   "source": [
    "seq.index('GeeksForGeeks')"
   ]
  },
  {
   "cell_type": "markdown",
   "id": "f3b52748",
   "metadata": {},
   "source": [
    "## 1.2 Finding index to encode"
   ]
  },
  {
   "cell_type": "code",
   "execution_count": 44,
   "id": "d2c212d7",
   "metadata": {},
   "outputs": [
    {
     "name": "stdout",
     "output_type": "stream",
     "text": [
      "GeeksForGeeks is not a website or a company \n",
      " [1, 5, 8, 10, 11, 7, 10, 14] \n",
      "\n",
      "GeeksForGeeks is a coding environment \n",
      " [1, 5, 10, 18, 0] \n",
      "\n",
      "Thats why I love it \n",
      " [6, 17, 12, 13, 15] \n",
      "\n",
      "Which is good not bad at all \n",
      " [16, 5, 2, 8, 9, 3, 4] \n",
      "\n"
     ]
    }
   ],
   "source": [
    "data = []\n",
    "\n",
    "for sent in sent_tokenize(text):\n",
    "\n",
    "    index = []\n",
    "    \n",
    "    for word in word_tokenize(sent):\n",
    "        \n",
    "        if word != '.':\n",
    "            index.append(seq.index(word))\n",
    "            print(word, end = ' ')\n",
    "    \n",
    "    print('\\n', index, '\\n')\n",
    "    data.append(index)"
   ]
  },
  {
   "cell_type": "markdown",
   "id": "94be2bd3",
   "metadata": {},
   "source": [
    "## 1.3 Encode the sentance in One hot Encoding format"
   ]
  },
  {
   "cell_type": "code",
   "execution_count": 27,
   "id": "f8ea994f",
   "metadata": {},
   "outputs": [],
   "source": [
    "fin = []\n",
    "\n",
    "for indexes in data:\n",
    "    enc = [0 for x in range(len(seq))]\n",
    "    for index in indexes:\n",
    "        enc[index] = 1\n",
    "    fin.append(enc)"
   ]
  },
  {
   "cell_type": "code",
   "execution_count": 28,
   "id": "2ec71459",
   "metadata": {},
   "outputs": [
    {
     "data": {
      "text/plain": [
       "[[0, 1, 0, 0, 0, 1, 0, 1, 1, 0, 1, 1, 0, 0, 1, 0, 0, 0, 0],\n",
       " [1, 1, 0, 0, 0, 1, 0, 0, 0, 0, 1, 0, 0, 0, 0, 0, 0, 0, 1],\n",
       " [0, 0, 0, 0, 0, 0, 1, 0, 0, 0, 0, 0, 1, 1, 0, 1, 0, 1, 0],\n",
       " [0, 0, 1, 1, 1, 1, 0, 0, 1, 1, 0, 0, 0, 0, 0, 0, 1, 0, 0]]"
      ]
     },
     "execution_count": 28,
     "metadata": {},
     "output_type": "execute_result"
    }
   ],
   "source": [
    "fin"
   ]
  },
  {
   "cell_type": "code",
   "execution_count": null,
   "id": "dd67528c",
   "metadata": {},
   "outputs": [],
   "source": [
    "[1, 5, 8, 10, 11, 7, 10, 14]\n",
    "[0,1,0,0,0,1,0,0,1,0,1,1,0,0,1,0,0,0,0] = 'GeeksForGeeks is not a website or a company '"
   ]
  },
  {
   "cell_type": "markdown",
   "id": "a16e7d59",
   "metadata": {},
   "source": [
    "## 1.4 Creating the DataFrame"
   ]
  },
  {
   "cell_type": "code",
   "execution_count": 32,
   "id": "a96b4c74",
   "metadata": {},
   "outputs": [
    {
     "data": {
      "text/html": [
       "<div>\n",
       "<style scoped>\n",
       "    .dataframe tbody tr th:only-of-type {\n",
       "        vertical-align: middle;\n",
       "    }\n",
       "\n",
       "    .dataframe tbody tr th {\n",
       "        vertical-align: top;\n",
       "    }\n",
       "\n",
       "    .dataframe thead th {\n",
       "        text-align: right;\n",
       "    }\n",
       "</style>\n",
       "<table border=\"1\" class=\"dataframe\">\n",
       "  <thead>\n",
       "    <tr style=\"text-align: right;\">\n",
       "      <th></th>\n",
       "      <th>environment</th>\n",
       "      <th>GeeksForGeeks</th>\n",
       "      <th>good</th>\n",
       "      <th>at</th>\n",
       "      <th>all</th>\n",
       "      <th>is</th>\n",
       "      <th>Thats</th>\n",
       "      <th>or</th>\n",
       "      <th>not</th>\n",
       "      <th>bad</th>\n",
       "      <th>a</th>\n",
       "      <th>website</th>\n",
       "      <th>I</th>\n",
       "      <th>love</th>\n",
       "      <th>company</th>\n",
       "      <th>it</th>\n",
       "      <th>Which</th>\n",
       "      <th>why</th>\n",
       "      <th>coding</th>\n",
       "      <th>Sentances_</th>\n",
       "    </tr>\n",
       "  </thead>\n",
       "  <tbody>\n",
       "    <tr>\n",
       "      <th>0</th>\n",
       "      <td>0</td>\n",
       "      <td>1</td>\n",
       "      <td>0</td>\n",
       "      <td>0</td>\n",
       "      <td>0</td>\n",
       "      <td>1</td>\n",
       "      <td>0</td>\n",
       "      <td>1</td>\n",
       "      <td>1</td>\n",
       "      <td>0</td>\n",
       "      <td>1</td>\n",
       "      <td>1</td>\n",
       "      <td>0</td>\n",
       "      <td>0</td>\n",
       "      <td>1</td>\n",
       "      <td>0</td>\n",
       "      <td>0</td>\n",
       "      <td>0</td>\n",
       "      <td>0</td>\n",
       "      <td>GeeksForGeeks is not a website or a company.</td>\n",
       "    </tr>\n",
       "    <tr>\n",
       "      <th>1</th>\n",
       "      <td>1</td>\n",
       "      <td>1</td>\n",
       "      <td>0</td>\n",
       "      <td>0</td>\n",
       "      <td>0</td>\n",
       "      <td>1</td>\n",
       "      <td>0</td>\n",
       "      <td>0</td>\n",
       "      <td>0</td>\n",
       "      <td>0</td>\n",
       "      <td>1</td>\n",
       "      <td>0</td>\n",
       "      <td>0</td>\n",
       "      <td>0</td>\n",
       "      <td>0</td>\n",
       "      <td>0</td>\n",
       "      <td>0</td>\n",
       "      <td>0</td>\n",
       "      <td>1</td>\n",
       "      <td>GeeksForGeeks is a coding environment.</td>\n",
       "    </tr>\n",
       "    <tr>\n",
       "      <th>2</th>\n",
       "      <td>0</td>\n",
       "      <td>0</td>\n",
       "      <td>0</td>\n",
       "      <td>0</td>\n",
       "      <td>0</td>\n",
       "      <td>0</td>\n",
       "      <td>1</td>\n",
       "      <td>0</td>\n",
       "      <td>0</td>\n",
       "      <td>0</td>\n",
       "      <td>0</td>\n",
       "      <td>0</td>\n",
       "      <td>1</td>\n",
       "      <td>1</td>\n",
       "      <td>0</td>\n",
       "      <td>1</td>\n",
       "      <td>0</td>\n",
       "      <td>1</td>\n",
       "      <td>0</td>\n",
       "      <td>Thats why I love it.</td>\n",
       "    </tr>\n",
       "    <tr>\n",
       "      <th>3</th>\n",
       "      <td>0</td>\n",
       "      <td>0</td>\n",
       "      <td>1</td>\n",
       "      <td>1</td>\n",
       "      <td>1</td>\n",
       "      <td>1</td>\n",
       "      <td>0</td>\n",
       "      <td>0</td>\n",
       "      <td>1</td>\n",
       "      <td>1</td>\n",
       "      <td>0</td>\n",
       "      <td>0</td>\n",
       "      <td>0</td>\n",
       "      <td>0</td>\n",
       "      <td>0</td>\n",
       "      <td>0</td>\n",
       "      <td>1</td>\n",
       "      <td>0</td>\n",
       "      <td>0</td>\n",
       "      <td>Which is good not bad at all.</td>\n",
       "    </tr>\n",
       "  </tbody>\n",
       "</table>\n",
       "</div>"
      ],
      "text/plain": [
       "   environment  GeeksForGeeks  good  at  all  is  Thats  or  not  bad  a  \\\n",
       "0            0              1     0   0    0   1      0   1    1    0  1   \n",
       "1            1              1     0   0    0   1      0   0    0    0  1   \n",
       "2            0              0     0   0    0   0      1   0    0    0  0   \n",
       "3            0              0     1   1    1   1      0   0    1    1  0   \n",
       "\n",
       "   website  I  love  company  it  Which  why  coding  \\\n",
       "0        1  0     0        1   0      0    0       0   \n",
       "1        0  0     0        0   0      0    0       1   \n",
       "2        0  1     1        0   1      0    1       0   \n",
       "3        0  0     0        0   0      1    0       0   \n",
       "\n",
       "                                     Sentances_  \n",
       "0  GeeksForGeeks is not a website or a company.  \n",
       "1        GeeksForGeeks is a coding environment.  \n",
       "2                          Thats why I love it.  \n",
       "3                 Which is good not bad at all.  "
      ]
     },
     "execution_count": 32,
     "metadata": {},
     "output_type": "execute_result"
    }
   ],
   "source": [
    "df = pd.DataFrame(fin, columns = seq)\n",
    "df['Sentances_'] = sent_tokenize(text)\n",
    "df"
   ]
  },
  {
   "cell_type": "code",
   "execution_count": null,
   "id": "27144281",
   "metadata": {},
   "outputs": [],
   "source": []
  },
  {
   "cell_type": "markdown",
   "id": "3a131649",
   "metadata": {},
   "source": [
    "# <font color = 'red'>2. <u>One Hot Encoding - with sklearn</u></font>"
   ]
  },
  {
   "cell_type": "markdown",
   "id": "638b7e9b",
   "metadata": {},
   "source": [
    "## 1.1 One word at a time"
   ]
  },
  {
   "cell_type": "code",
   "execution_count": 36,
   "id": "a2fbba0b",
   "metadata": {},
   "outputs": [
    {
     "data": {
      "text/html": [
       "<div>\n",
       "<style scoped>\n",
       "    .dataframe tbody tr th:only-of-type {\n",
       "        vertical-align: middle;\n",
       "    }\n",
       "\n",
       "    .dataframe tbody tr th {\n",
       "        vertical-align: top;\n",
       "    }\n",
       "\n",
       "    .dataframe thead th {\n",
       "        text-align: right;\n",
       "    }\n",
       "</style>\n",
       "<table border=\"1\" class=\"dataframe\">\n",
       "  <thead>\n",
       "    <tr style=\"text-align: right;\">\n",
       "      <th></th>\n",
       "      <th>bird</th>\n",
       "      <th>cat</th>\n",
       "      <th>dog</th>\n",
       "      <th>fish</th>\n",
       "    </tr>\n",
       "  </thead>\n",
       "  <tbody>\n",
       "    <tr>\n",
       "      <th>0</th>\n",
       "      <td>0</td>\n",
       "      <td>1</td>\n",
       "      <td>0</td>\n",
       "      <td>0</td>\n",
       "    </tr>\n",
       "    <tr>\n",
       "      <th>1</th>\n",
       "      <td>0</td>\n",
       "      <td>0</td>\n",
       "      <td>1</td>\n",
       "      <td>0</td>\n",
       "    </tr>\n",
       "    <tr>\n",
       "      <th>2</th>\n",
       "      <td>0</td>\n",
       "      <td>0</td>\n",
       "      <td>0</td>\n",
       "      <td>1</td>\n",
       "    </tr>\n",
       "    <tr>\n",
       "      <th>3</th>\n",
       "      <td>1</td>\n",
       "      <td>0</td>\n",
       "      <td>0</td>\n",
       "      <td>0</td>\n",
       "    </tr>\n",
       "    <tr>\n",
       "      <th>4</th>\n",
       "      <td>0</td>\n",
       "      <td>1</td>\n",
       "      <td>0</td>\n",
       "      <td>0</td>\n",
       "    </tr>\n",
       "    <tr>\n",
       "      <th>5</th>\n",
       "      <td>0</td>\n",
       "      <td>0</td>\n",
       "      <td>1</td>\n",
       "      <td>0</td>\n",
       "    </tr>\n",
       "  </tbody>\n",
       "</table>\n",
       "</div>"
      ],
      "text/plain": [
       "   bird  cat  dog  fish\n",
       "0     0    1    0     0\n",
       "1     0    0    1     0\n",
       "2     0    0    0     1\n",
       "3     1    0    0     0\n",
       "4     0    1    0     0\n",
       "5     0    0    1     0"
      ]
     },
     "execution_count": 36,
     "metadata": {},
     "output_type": "execute_result"
    }
   ],
   "source": [
    "import pandas as pd\n",
    "\n",
    "text = ['cat', 'dog', 'fish', 'bird', 'cat', 'dog']\n",
    "\n",
    "data = pd.get_dummies(text)\n",
    "data"
   ]
  },
  {
   "cell_type": "markdown",
   "id": "a9a721dc",
   "metadata": {},
   "source": [
    "## 1.2 Whole sentance at a time"
   ]
  },
  {
   "cell_type": "code",
   "execution_count": 30,
   "id": "f533c75f",
   "metadata": {},
   "outputs": [
    {
     "name": "stdout",
     "output_type": "stream",
     "text": [
      "[[0. 0. 1. 0.]\n",
      " [1. 0. 0. 0.]\n",
      " [0. 1. 0. 0.]\n",
      " [0. 0. 0. 1.]]\n",
      "['i hate cats', 'i like turtles', 'i love dogs', 'i love the dogs']\n"
     ]
    }
   ],
   "source": [
    "import numpy as np\n",
    "from sklearn.preprocessing import OneHotEncoder\n",
    "\n",
    "text = ['i love dogs', 'i hate cats', 'i like turtles', 'i love the dogs']\n",
    "\n",
    "text = np.reshape(text, (-1,1))\n",
    "\n",
    "encoder = OneHotEncoder()\n",
    "encoder.fit(text)\n",
    "\n",
    "one_hot = encoder.transform(text)\n",
    "print(one_hot.toarray())\n",
    "print([i[3:] for i in encoder.get_feature_names()])"
   ]
  },
  {
   "cell_type": "markdown",
   "id": "4ca6110b",
   "metadata": {},
   "source": [
    "## Tokenized Sentance"
   ]
  },
  {
   "cell_type": "code",
   "execution_count": 57,
   "id": "844102a5",
   "metadata": {},
   "outputs": [
    {
     "name": "stdout",
     "output_type": "stream",
     "text": [
      "[1. 1. 1. 1. 1. 1.]\n",
      "\n",
      " [[0. 1. 1. 0. 0. 1.]\n",
      " [1. 0. 0. 1. 1. 0.]] \n",
      "\n",
      "['but', 'this', 'is', 'its', 'fine', 'good']\n"
     ]
    }
   ],
   "source": [
    "from sklearn.preprocessing import OneHotEncoder\n",
    "\n",
    "text = [['this', 'is', 'good'], ['but', 'its', 'fine']]\n",
    "\n",
    "encoder = OneHotEncoder()\n",
    "encoder.fit(text)\n",
    "\n",
    "one_hot = encoder.transform(text)\n",
    "\n",
    "print(one_hot.data)\n",
    "print('\\n', one_hot.toarray(), '\\n')\n",
    "\n",
    "print([i[3:] for i in encoder.get_feature_names()])"
   ]
  },
  {
   "cell_type": "code",
   "execution_count": 64,
   "id": "0f3474a9",
   "metadata": {},
   "outputs": [
    {
     "data": {
      "text/html": [
       "<div>\n",
       "<style scoped>\n",
       "    .dataframe tbody tr th:only-of-type {\n",
       "        vertical-align: middle;\n",
       "    }\n",
       "\n",
       "    .dataframe tbody tr th {\n",
       "        vertical-align: top;\n",
       "    }\n",
       "\n",
       "    .dataframe thead th {\n",
       "        text-align: right;\n",
       "    }\n",
       "</style>\n",
       "<table border=\"1\" class=\"dataframe\">\n",
       "  <thead>\n",
       "    <tr style=\"text-align: right;\">\n",
       "      <th></th>\n",
       "      <th>but</th>\n",
       "      <th>this</th>\n",
       "      <th>is</th>\n",
       "      <th>its</th>\n",
       "      <th>fine</th>\n",
       "      <th>good</th>\n",
       "    </tr>\n",
       "  </thead>\n",
       "  <tbody>\n",
       "    <tr>\n",
       "      <th>0</th>\n",
       "      <td>0.0</td>\n",
       "      <td>1.0</td>\n",
       "      <td>1.0</td>\n",
       "      <td>0.0</td>\n",
       "      <td>0.0</td>\n",
       "      <td>1.0</td>\n",
       "    </tr>\n",
       "    <tr>\n",
       "      <th>1</th>\n",
       "      <td>1.0</td>\n",
       "      <td>0.0</td>\n",
       "      <td>0.0</td>\n",
       "      <td>1.0</td>\n",
       "      <td>1.0</td>\n",
       "      <td>0.0</td>\n",
       "    </tr>\n",
       "  </tbody>\n",
       "</table>\n",
       "</div>"
      ],
      "text/plain": [
       "   but  this   is  its  fine  good\n",
       "0  0.0   1.0  1.0  0.0   0.0   1.0\n",
       "1  1.0   0.0  0.0  1.0   1.0   0.0"
      ]
     },
     "execution_count": 64,
     "metadata": {},
     "output_type": "execute_result"
    }
   ],
   "source": [
    "pd.DataFrame(one_hot.toarray(), columns=[i[3:] for i in encoder.get_feature_names()])"
   ]
  },
  {
   "cell_type": "code",
   "execution_count": null,
   "id": "e5ff6e07",
   "metadata": {},
   "outputs": [],
   "source": []
  }
 ],
 "metadata": {
  "kernelspec": {
   "display_name": "Python 3 (ipykernel)",
   "language": "python",
   "name": "python3"
  },
  "language_info": {
   "codemirror_mode": {
    "name": "ipython",
    "version": 3
   },
   "file_extension": ".py",
   "mimetype": "text/x-python",
   "name": "python",
   "nbconvert_exporter": "python",
   "pygments_lexer": "ipython3",
   "version": "3.9.7"
  }
 },
 "nbformat": 4,
 "nbformat_minor": 5
}

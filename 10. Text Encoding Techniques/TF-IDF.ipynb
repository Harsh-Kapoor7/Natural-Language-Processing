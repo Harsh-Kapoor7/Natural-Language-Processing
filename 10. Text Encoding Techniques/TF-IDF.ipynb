{
 "cells": [
  {
   "cell_type": "markdown",
   "id": "dc0fa1cd",
   "metadata": {},
   "source": [
    "## TF-IDF from scratch"
   ]
  },
  {
   "cell_type": "code",
   "execution_count": 83,
   "id": "868e4878",
   "metadata": {},
   "outputs": [
    {
     "name": "stdout",
     "output_type": "stream",
     "text": [
      "['good', 'movie'] good 0.5\n",
      "['good', 'movie'] movie 0.5\n",
      "['good', 'movie'] bad 0.0\n",
      "['bad', 'movie'] good 0.0\n",
      "['bad', 'movie'] movie 0.5\n",
      "['bad', 'movie'] bad 0.5\n",
      "['good', 'bad', 'movie'] good 0.3333333333333333\n",
      "['good', 'bad', 'movie'] movie 0.3333333333333333\n",
      "['good', 'bad', 'movie'] bad 0.3333333333333333\n"
     ]
    }
   ],
   "source": [
    "text_data = ['good movie', 'bad movie', 'good bad movie']\n",
    "\n",
    "# Word tokenisation\n",
    "word_data = [sentence.split(' ') for sentence in text_data]\n",
    "\n",
    "# Finding the vocab\n",
    "vocab = set([word for sentence in word_data for word in sentence])\n",
    "\n",
    "# Finding term frequency\n",
    "\n",
    "for sentence in word_data:\n",
    "    for word in vocab:\n",
    "        print(sentence, word, sentence.count(word)/len(sentence))"
   ]
  },
  {
   "cell_type": "code",
   "execution_count": 76,
   "id": "d3b9e66d",
   "metadata": {},
   "outputs": [
    {
     "data": {
      "text/plain": [
       "[['good', 'movie'], ['bad', 'movie'], ['good', 'bad', 'movie']]"
      ]
     },
     "execution_count": 76,
     "metadata": {},
     "output_type": "execute_result"
    }
   ],
   "source": [
    "word_data"
   ]
  },
  {
   "cell_type": "code",
   "execution_count": 77,
   "id": "1a7f7f1b",
   "metadata": {},
   "outputs": [
    {
     "name": "stdout",
     "output_type": "stream",
     "text": [
      "['good', 'movie']\n",
      "['bad', 'movie']\n",
      "['good', 'bad', 'movie']\n"
     ]
    }
   ],
   "source": [
    "for sen in word_data:\n",
    "    print(sen)"
   ]
  },
  {
   "cell_type": "code",
   "execution_count": 65,
   "id": "6e38fd22",
   "metadata": {},
   "outputs": [
    {
     "data": {
      "text/plain": [
       "{'good': 5, 'movie': 7, 'bad': 6}"
      ]
     },
     "execution_count": 65,
     "metadata": {},
     "output_type": "execute_result"
    }
   ],
   "source": [
    "dict"
   ]
  },
  {
   "cell_type": "code",
   "execution_count": 14,
   "id": "20894171",
   "metadata": {},
   "outputs": [
    {
     "name": "stdout",
     "output_type": "stream",
     "text": [
      "['good', 'movie']\n",
      "['bad', 'movie']\n",
      "['good', 'bad', 'movie']\n"
     ]
    }
   ],
   "source": [
    "for sentence in word_data:\n",
    "    print(sentence)"
   ]
  },
  {
   "cell_type": "code",
   "execution_count": 78,
   "id": "6d2b9589",
   "metadata": {},
   "outputs": [
    {
     "data": {
      "text/plain": [
       "{'bad', 'good', 'movie'}"
      ]
     },
     "execution_count": 78,
     "metadata": {},
     "output_type": "execute_result"
    }
   ],
   "source": [
    "vocab"
   ]
  },
  {
   "cell_type": "code",
   "execution_count": null,
   "id": "2fa9ecb2",
   "metadata": {},
   "outputs": [],
   "source": []
  }
 ],
 "metadata": {
  "kernelspec": {
   "display_name": "Python 3 (ipykernel)",
   "language": "python",
   "name": "python3"
  },
  "language_info": {
   "codemirror_mode": {
    "name": "ipython",
    "version": 3
   },
   "file_extension": ".py",
   "mimetype": "text/x-python",
   "name": "python",
   "nbconvert_exporter": "python",
   "pygments_lexer": "ipython3",
   "version": "3.9.7"
  }
 },
 "nbformat": 4,
 "nbformat_minor": 5
}

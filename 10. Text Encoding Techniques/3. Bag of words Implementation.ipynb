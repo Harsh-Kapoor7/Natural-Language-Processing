{
 "cells": [
  {
   "cell_type": "markdown",
   "id": "a94d118a",
   "metadata": {},
   "source": [
    "## <font color = 'purple'>Importing libraries </font>"
   ]
  },
  {
   "cell_type": "code",
   "execution_count": 60,
   "id": "85bb2958",
   "metadata": {},
   "outputs": [],
   "source": [
    "import pandas as pd"
   ]
  },
  {
   "cell_type": "markdown",
   "id": "c4bbd22b",
   "metadata": {},
   "source": [
    "## <font color = 'purple'>Implementing bag of words</font>"
   ]
  },
  {
   "cell_type": "code",
   "execution_count": 92,
   "id": "83d58e7d",
   "metadata": {},
   "outputs": [
    {
     "data": {
      "text/html": [
       "<div>\n",
       "<style scoped>\n",
       "    .dataframe tbody tr th:only-of-type {\n",
       "        vertical-align: middle;\n",
       "    }\n",
       "\n",
       "    .dataframe tbody tr th {\n",
       "        vertical-align: top;\n",
       "    }\n",
       "\n",
       "    .dataframe thead th {\n",
       "        text-align: right;\n",
       "    }\n",
       "</style>\n",
       "<table border=\"1\" class=\"dataframe\">\n",
       "  <thead>\n",
       "    <tr style=\"text-align: right;\">\n",
       "      <th></th>\n",
       "      <th>cat</th>\n",
       "      <th>dog</th>\n",
       "      <th>very</th>\n",
       "      <th>cute</th>\n",
       "      <th>This</th>\n",
       "      <th>The</th>\n",
       "      <th>is</th>\n",
       "      <th>a</th>\n",
       "    </tr>\n",
       "  </thead>\n",
       "  <tbody>\n",
       "    <tr>\n",
       "      <th>0</th>\n",
       "      <td>1</td>\n",
       "      <td>0</td>\n",
       "      <td>2</td>\n",
       "      <td>1</td>\n",
       "      <td>1</td>\n",
       "      <td>0</td>\n",
       "      <td>1</td>\n",
       "      <td>1</td>\n",
       "    </tr>\n",
       "    <tr>\n",
       "      <th>1</th>\n",
       "      <td>0</td>\n",
       "      <td>1</td>\n",
       "      <td>1</td>\n",
       "      <td>1</td>\n",
       "      <td>0</td>\n",
       "      <td>1</td>\n",
       "      <td>1</td>\n",
       "      <td>0</td>\n",
       "    </tr>\n",
       "  </tbody>\n",
       "</table>\n",
       "</div>"
      ],
      "text/plain": [
       "   cat  dog  very  cute  This  The  is  a\n",
       "0    1    0     2     1     1    0   1  1\n",
       "1    0    1     1     1     0    1   1  0"
      ]
     },
     "execution_count": 92,
     "metadata": {},
     "output_type": "execute_result"
    }
   ],
   "source": [
    "feature_vectors = []\n",
    "\n",
    "text = ['This is a very very cute cat', 'The dog is very cute']\n",
    "\n",
    "tokens = [token.split() for token in text]                               # Splitting words from the whole text\n",
    "vocab = list(set([word for text in tokens for word in text]))            # Creating vocab using unique words\n",
    "\n",
    "for text in tokens:\n",
    "    \n",
    "    feature_vector = [0]*len(vocab)                                      # Making an array of size same as vocab\n",
    "    \n",
    "    for word in text:\n",
    "        feature_vector[vocab.index(word)] = text.count(word)             # Count and assign at the same index as of word in the vocab\n",
    "    \n",
    "    feature_vectors.append(feature_vector)                               # Appending in the final list feature_vectors\n",
    "    \n",
    "bag = pd.DataFrame(feature_vectors, columns = vocab)                     # Creating DataFrame\n",
    "bag                                                                      # Showing  DataFrame"
   ]
  },
  {
   "cell_type": "code",
   "execution_count": null,
   "id": "9154a635",
   "metadata": {},
   "outputs": [],
   "source": []
  },
  {
   "cell_type": "markdown",
   "id": "ae4ef39a",
   "metadata": {},
   "source": [
    "## <font color = 'purple'>Implementing binary bag of words</font>"
   ]
  },
  {
   "cell_type": "code",
   "execution_count": 90,
   "id": "3bbbbfb2",
   "metadata": {},
   "outputs": [
    {
     "data": {
      "text/html": [
       "<div>\n",
       "<style scoped>\n",
       "    .dataframe tbody tr th:only-of-type {\n",
       "        vertical-align: middle;\n",
       "    }\n",
       "\n",
       "    .dataframe tbody tr th {\n",
       "        vertical-align: top;\n",
       "    }\n",
       "\n",
       "    .dataframe thead th {\n",
       "        text-align: right;\n",
       "    }\n",
       "</style>\n",
       "<table border=\"1\" class=\"dataframe\">\n",
       "  <thead>\n",
       "    <tr style=\"text-align: right;\">\n",
       "      <th></th>\n",
       "      <th>cat</th>\n",
       "      <th>dog</th>\n",
       "      <th>very</th>\n",
       "      <th>cute</th>\n",
       "      <th>This</th>\n",
       "      <th>The</th>\n",
       "      <th>is</th>\n",
       "      <th>a</th>\n",
       "    </tr>\n",
       "  </thead>\n",
       "  <tbody>\n",
       "    <tr>\n",
       "      <th>0</th>\n",
       "      <td>1</td>\n",
       "      <td>0</td>\n",
       "      <td>1</td>\n",
       "      <td>1</td>\n",
       "      <td>1</td>\n",
       "      <td>0</td>\n",
       "      <td>1</td>\n",
       "      <td>1</td>\n",
       "    </tr>\n",
       "    <tr>\n",
       "      <th>1</th>\n",
       "      <td>0</td>\n",
       "      <td>1</td>\n",
       "      <td>1</td>\n",
       "      <td>1</td>\n",
       "      <td>0</td>\n",
       "      <td>1</td>\n",
       "      <td>1</td>\n",
       "      <td>0</td>\n",
       "    </tr>\n",
       "  </tbody>\n",
       "</table>\n",
       "</div>"
      ],
      "text/plain": [
       "   cat  dog  very  cute  This  The  is  a\n",
       "0    1    0     1     1     1    0   1  1\n",
       "1    0    1     1     1     0    1   1  0"
      ]
     },
     "execution_count": 90,
     "metadata": {},
     "output_type": "execute_result"
    }
   ],
   "source": [
    "feature_vectors = []\n",
    "\n",
    "text = ['This is a very very cute cat', 'The dog is very cute']\n",
    "\n",
    "tokens = [token.split() for token in text]                              # Splitting words from the whole text\n",
    "vocab = list(set([word for text in tokens for word in text]))           # Creating vocab using unique words\n",
    "\n",
    "for text in tokens:\n",
    "    \n",
    "    feature_vector = [0]*len(vocab)                                     # Making an array of size same as vocab\n",
    "    \n",
    "    for word in text:\n",
    "        feature_vector[vocab.index(word)] = 1                           # Assign 1 at the same index as of word in the vocab\n",
    "    \n",
    "    feature_vectors.append(feature_vector)                              # Appending in the final list feature_vectors\n",
    "    \n",
    "binary_bag = pd.DataFrame(feature_vectors, columns = vocab)                    # Creating DataFrame\n",
    "binary_bag                                                                     # Showing  DataFrame"
   ]
  },
  {
   "cell_type": "code",
   "execution_count": null,
   "id": "2842af71",
   "metadata": {},
   "outputs": [],
   "source": []
  }
 ],
 "metadata": {
  "kernelspec": {
   "display_name": "Python 3 (ipykernel)",
   "language": "python",
   "name": "python3"
  },
  "language_info": {
   "codemirror_mode": {
    "name": "ipython",
    "version": 3
   },
   "file_extension": ".py",
   "mimetype": "text/x-python",
   "name": "python",
   "nbconvert_exporter": "python",
   "pygments_lexer": "ipython3",
   "version": "3.9.7"
  }
 },
 "nbformat": 4,
 "nbformat_minor": 5
}

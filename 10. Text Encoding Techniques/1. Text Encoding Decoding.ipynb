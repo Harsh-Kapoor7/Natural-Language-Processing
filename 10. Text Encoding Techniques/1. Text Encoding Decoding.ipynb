{
 "cells": [
  {
   "cell_type": "code",
   "execution_count": 2,
   "id": "1b4ffa5c",
   "metadata": {},
   "outputs": [],
   "source": [
    "from nltk.tokenize import word_tokenize, sent_tokenize\n",
    "from nltk.corpus import stopwords\n",
    "\n",
    "corpus = 'India, officially the Republic of India, is a country in South Asia. It is the seventh-largest country by area, the second-most populous country, and the most populous democracy in the world. Bounded by the Indian Ocean on the south, the Arabian Sea in the south-west, and the Bay of Bengal in the south-east, it shares land borders with Pakistan to the west; China, Nepal and Bhutan to the north; and Bangladesh and Myanmar to the east. In the Indian Ocean, India is in the vicinity of Sri Lanka and the Maldives; its Andaman and Nicobar Islands share a maritime border with Thailand, Myanmar and Indonesia.'"
   ]
  },
  {
   "cell_type": "markdown",
   "id": "2b1f1bf6",
   "metadata": {},
   "source": [
    "# <font color = 'red'>1. <u>Text Encoding Decoding</u> | <u>without StopWords</u></font>"
   ]
  },
  {
   "cell_type": "markdown",
   "id": "b48c0cb5",
   "metadata": {},
   "source": [
    "## Stopwords and special characters Removal"
   ]
  },
  {
   "cell_type": "code",
   "execution_count": 62,
   "id": "aeac5ecd",
   "metadata": {},
   "outputs": [
    {
     "data": {
      "text/plain": [
       "45"
      ]
     },
     "execution_count": 62,
     "metadata": {},
     "output_type": "execute_result"
    }
   ],
   "source": [
    "words = []\n",
    "\n",
    "for word in word_tokenize(corpus):\n",
    "    if word.lower() not in stopwords.words('english') and len(word) > 1:\n",
    "        words.append(word.lower())\n",
    "        \n",
    "vocab = list(set(words))\n",
    "len(vocab)"
   ]
  },
  {
   "cell_type": "markdown",
   "id": "8151fc20",
   "metadata": {},
   "source": [
    "## Creating encoders and decoders"
   ]
  },
  {
   "cell_type": "code",
   "execution_count": 16,
   "id": "86c81fad",
   "metadata": {},
   "outputs": [],
   "source": [
    "word_to_num = {}\n",
    "num_to_word = {}\n",
    "\n",
    "num = 1\n",
    "\n",
    "for word in vocab:\n",
    "    word_to_num[word] = num\n",
    "    num_to_word[num] = word\n",
    "    num += 1"
   ]
  },
  {
   "cell_type": "markdown",
   "id": "3e914cf9",
   "metadata": {},
   "source": [
    "## Encoding sentences"
   ]
  },
  {
   "cell_type": "code",
   "execution_count": 63,
   "id": "f283b9ed",
   "metadata": {},
   "outputs": [
    {
     "name": "stdout",
     "output_type": "stream",
     "text": [
      "india officially republic india country south asia \n",
      " [18, 44, 26, 18, 36, 25, 19] \n",
      "\n",
      "seventh-largest country area second-most populous country populous democracy world \n",
      " [8, 36, 31, 20, 23, 36, 23, 22, 17] \n",
      "\n",
      "bounded indian ocean south arabian sea south-west bay bengal south-east shares land borders pakistan west china nepal bhutan north bangladesh myanmar east \n",
      " [1, 37, 35, 25, 28, 21, 38, 7, 43, 2, 40, 33, 14, 32, 15, 27, 13, 4, 29, 30, 10, 16] \n",
      "\n",
      "indian ocean india vicinity sri lanka maldives andaman nicobar islands share maritime border thailand myanmar indonesia \n",
      " [37, 35, 18, 24, 11, 3, 9, 41, 45, 12, 42, 5, 39, 34, 10, 6] \n",
      "\n"
     ]
    }
   ],
   "source": [
    "data = []\n",
    "\n",
    "for sent in sent_tokenize(corpus):                                            # Iterating each sentence\n",
    "    \n",
    "    temp = []\n",
    "    \n",
    "    for word in word_tokenize(sent):                                          # Iterating each word in a sentence\n",
    "        \n",
    "        if word.lower() not in stopwords.words('english') and len(word) > 1:  # Stopwords and special characters removal\n",
    "            temp.append(word_to_num[word.lower()])                            # Appending each word in temp list\n",
    "            print(word.lower(), end = ' ')\n",
    "    \n",
    "    print('\\n', temp, '\\n')\n",
    "    \n",
    "    data.append(temp)                                                         # Appending each sentence in data list"
   ]
  },
  {
   "cell_type": "markdown",
   "id": "a52448de",
   "metadata": {},
   "source": [
    "## Decoding the sentences"
   ]
  },
  {
   "cell_type": "code",
   "execution_count": 64,
   "id": "5923069d",
   "metadata": {},
   "outputs": [
    {
     "name": "stdout",
     "output_type": "stream",
     "text": [
      "india officially republic india country south asia \n",
      "seventh-largest country area second-most populous country populous democracy world \n",
      "bounded indian ocean south arabian sea south-west bay bengal south-east shares land borders pakistan west china nepal bhutan north bangladesh myanmar east \n",
      "indian ocean india vicinity sri lanka maldives andaman nicobar islands share maritime border thailand myanmar indonesia \n"
     ]
    }
   ],
   "source": [
    "for sent in data:                                    # Iterating through each sentence\n",
    "    for word in sent:                                # Iterating through each word in a sentence\n",
    "        print(num_to_word[word], end = ' ')          # decoding using num_to_words dictionary\n",
    "    print()"
   ]
  },
  {
   "cell_type": "markdown",
   "id": "b3923211",
   "metadata": {},
   "source": [
    "# <font color = 'red'>2. <u>Text Encoding Decoding</u> | <u>With Stopwords</u></font>"
   ]
  },
  {
   "cell_type": "markdown",
   "id": "895521c7",
   "metadata": {},
   "source": [
    "## Special Characters Removal"
   ]
  },
  {
   "cell_type": "code",
   "execution_count": 139,
   "id": "4390a53e",
   "metadata": {},
   "outputs": [
    {
     "data": {
      "text/plain": [
       "58"
      ]
     },
     "execution_count": 139,
     "metadata": {},
     "output_type": "execute_result"
    }
   ],
   "source": [
    "words = []\n",
    "\n",
    "for word in word_tokenize(corpus):\n",
    "    if len(word) == 1:\n",
    "        if ((ord(word) >= 97 and ord(word) <= 122) or (ord(word) >= 65 and ord(word) <= 90)):    # checking if word is not an alphabet\n",
    "            words.append(word.lower())\n",
    "    else:\n",
    "        words.append(word.lower())\n",
    "    \n",
    "vocab = list(set(words))                                 # Creating Vocab\n",
    "len(vocab)"
   ]
  },
  {
   "cell_type": "markdown",
   "id": "d9a798c2",
   "metadata": {},
   "source": [
    "## Creating encoders and decoders"
   ]
  },
  {
   "cell_type": "code",
   "execution_count": 140,
   "id": "dbd7c0d4",
   "metadata": {},
   "outputs": [],
   "source": [
    "word_to_num = {}\n",
    "num_to_word = {}\n",
    "\n",
    "num = 1\n",
    "\n",
    "for word in vocab:\n",
    "    word_to_num[word] = num\n",
    "    num_to_word[num] = word\n",
    "    num += 1"
   ]
  },
  {
   "cell_type": "markdown",
   "id": "4afc9822",
   "metadata": {},
   "source": [
    "## Encoding sentence"
   ]
  },
  {
   "cell_type": "code",
   "execution_count": 141,
   "id": "71d74108",
   "metadata": {},
   "outputs": [
    {
     "name": "stdout",
     "output_type": "stream",
     "text": [
      "india officially the republic of india is a country in south asia \n",
      " [21, 6, 44, 34, 23, 21, 17, 55, 57, 5, 33, 26] \n",
      "\n",
      "it is the seventh-largest country by area the second-most populous country and the most populous democracy in the world \n",
      " [52, 17, 44, 10, 57, 25, 40, 44, 27, 30, 57, 22, 44, 39, 30, 29, 5, 44, 20] \n",
      "\n",
      "bounded by the indian ocean on the south the arabian sea in the south-west and the bay of bengal in the south-east it shares land borders with pakistan to the west china nepal and bhutan to the north and bangladesh and myanmar to the east \n",
      " [1, 25, 44, 48, 47, 32, 44, 33, 44, 37, 28, 5, 44, 49, 22, 44, 9, 23, 56, 5, 44, 2, 52, 51, 45, 16, 35, 41, 24, 44, 18, 36, 15, 22, 4, 24, 44, 38, 22, 42, 22, 12, 24, 44, 19] \n",
      "\n",
      "in the indian ocean india is in the vicinity of sri lanka and the maldives its andaman and nicobar islands share a maritime border with thailand myanmar and indonesia \n",
      " [5, 44, 48, 47, 21, 17, 5, 44, 31, 23, 13, 3, 22, 44, 11, 43, 53, 22, 58, 14, 54, 55, 7, 50, 35, 46, 12, 22, 8] \n",
      "\n"
     ]
    }
   ],
   "source": [
    "data = []\n",
    "\n",
    "for sent in sent_tokenize(corpus):\n",
    "    \n",
    "    temp = []\n",
    "    \n",
    "    for word in word_tokenize(sent):\n",
    "        \n",
    "        if len(word) == 1:\n",
    "            if ((ord(word) >= 97 and ord(word) <= 122) or (ord(word) >= 65 and ord(word) <= 90)):\n",
    "                temp.append(word_to_num[word.lower()])\n",
    "                print(word.lower(), end = ' ')\n",
    "        else:\n",
    "            temp.append(word_to_num[word.lower()])\n",
    "            print(word.lower(), end = ' ')\n",
    "    \n",
    "    print('\\n', temp, '\\n')\n",
    "    data.append(temp)"
   ]
  },
  {
   "cell_type": "markdown",
   "id": "bc394833",
   "metadata": {},
   "source": [
    "## Decoding the Sentences"
   ]
  },
  {
   "cell_type": "code",
   "execution_count": 143,
   "id": "9aca4cfe",
   "metadata": {},
   "outputs": [
    {
     "name": "stdout",
     "output_type": "stream",
     "text": [
      "india officially the republic of india is a country in south asia \n",
      "\n",
      "it is the seventh-largest country by area the second-most populous country and the most populous democracy in the world \n",
      "\n",
      "bounded by the indian ocean on the south the arabian sea in the south-west and the bay of bengal in the south-east it shares land borders with pakistan to the west china nepal and bhutan to the north and bangladesh and myanmar to the east \n",
      "\n",
      "in the indian ocean india is in the vicinity of sri lanka and the maldives its andaman and nicobar islands share a maritime border with thailand myanmar and indonesia \n",
      "\n"
     ]
    }
   ],
   "source": [
    "for sent in data:\n",
    "    for word in sent:\n",
    "        print(num_to_word[word], end = ' ')\n",
    "    print('\\n')"
   ]
  },
  {
   "cell_type": "code",
   "execution_count": null,
   "id": "ab0cea82",
   "metadata": {},
   "outputs": [],
   "source": []
  }
 ],
 "metadata": {
  "kernelspec": {
   "display_name": "Python 3 (ipykernel)",
   "language": "python",
   "name": "python3"
  },
  "language_info": {
   "codemirror_mode": {
    "name": "ipython",
    "version": 3
   },
   "file_extension": ".py",
   "mimetype": "text/x-python",
   "name": "python",
   "nbconvert_exporter": "python",
   "pygments_lexer": "ipython3",
   "version": "3.9.7"
  }
 },
 "nbformat": 4,
 "nbformat_minor": 5
}

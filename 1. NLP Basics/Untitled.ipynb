{
 "cells": [
  {
   "cell_type": "code",
   "execution_count": 1,
   "id": "589954b4",
   "metadata": {},
   "outputs": [
    {
     "data": {
      "text/plain": [
       "\"Hello Geeks. We're hoping you all are doing great.\""
      ]
     },
     "execution_count": 1,
     "metadata": {},
     "output_type": "execute_result"
    }
   ],
   "source": [
    "txt = \"Hello Geeks. We're hoping you all are doing great.\"\n",
    "txt"
   ]
  },
  {
   "cell_type": "code",
   "execution_count": 4,
   "id": "25647c27",
   "metadata": {},
   "outputs": [
    {
     "data": {
      "text/plain": [
       "['Hello Geeks', \" We're hoping you all are doing great\", '']"
      ]
     },
     "execution_count": 4,
     "metadata": {},
     "output_type": "execute_result"
    }
   ],
   "source": [
    "txt.split('.')"
   ]
  },
  {
   "cell_type": "code",
   "execution_count": 7,
   "id": "e1b2c444",
   "metadata": {},
   "outputs": [],
   "source": [
    "from nltk.tokenize import word_tokenize, sent_tokenize"
   ]
  },
  {
   "cell_type": "code",
   "execution_count": 8,
   "id": "18fbc54a",
   "metadata": {},
   "outputs": [
    {
     "data": {
      "text/plain": [
       "['Hello',\n",
       " 'Geeks',\n",
       " '.',\n",
       " 'We',\n",
       " \"'re\",\n",
       " 'hoping',\n",
       " 'you',\n",
       " 'all',\n",
       " 'are',\n",
       " 'doing',\n",
       " 'great',\n",
       " '.']"
      ]
     },
     "execution_count": 8,
     "metadata": {},
     "output_type": "execute_result"
    }
   ],
   "source": [
    "word_tokenize(txt)"
   ]
  },
  {
   "cell_type": "code",
   "execution_count": 9,
   "id": "8cbc7e0c",
   "metadata": {},
   "outputs": [
    {
     "data": {
      "text/plain": [
       "['Hello Geeks.', \"We're hoping you all are doing great.\"]"
      ]
     },
     "execution_count": 9,
     "metadata": {},
     "output_type": "execute_result"
    }
   ],
   "source": [
    "sent_tokenize(txt)"
   ]
  },
  {
   "cell_type": "code",
   "execution_count": 12,
   "id": "501c3c2d",
   "metadata": {},
   "outputs": [
    {
     "name": "stdout",
     "output_type": "stream",
     "text": [
      "Hello\n",
      "Geeks\n",
      "We\n",
      "'re\n",
      "hoping\n",
      "you\n",
      "all\n",
      "are\n",
      "doing\n",
      "great\n"
     ]
    }
   ],
   "source": [
    "for word in word_tokenize(txt):\n",
    "    if word != '.':\n",
    "        print(word)"
   ]
  },
  {
   "cell_type": "markdown",
   "id": "e0b9234f",
   "metadata": {},
   "source": [
    "## 1. Lemmatization"
   ]
  },
  {
   "cell_type": "code",
   "execution_count": 2,
   "id": "4695aad0",
   "metadata": {},
   "outputs": [],
   "source": [
    "stem = PorterStemmer()\n",
    "lem = WordNetLemmatizer()"
   ]
  },
  {
   "cell_type": "code",
   "execution_count": 6,
   "id": "1b387667",
   "metadata": {},
   "outputs": [
    {
     "name": "stdout",
     "output_type": "stream",
     "text": [
      "change\n",
      "changed\n",
      "changer\n",
      "change\n"
     ]
    }
   ],
   "source": [
    "print(lem.lemmatize('change'))\n",
    "print(lem.lemmatize('changed'))\n",
    "print(lem.lemmatize('changer'))\n",
    "print(lem.lemmatize('changes'))"
   ]
  },
  {
   "cell_type": "markdown",
   "id": "579f4014",
   "metadata": {},
   "source": [
    "## 2. Stemming"
   ]
  },
  {
   "cell_type": "code",
   "execution_count": 1,
   "id": "9ab256c6",
   "metadata": {},
   "outputs": [],
   "source": [
    "from nltk.stem import WordNetLemmatizer, PorterStemmer"
   ]
  },
  {
   "cell_type": "code",
   "execution_count": 8,
   "id": "8ea84063",
   "metadata": {},
   "outputs": [
    {
     "name": "stdout",
     "output_type": "stream",
     "text": [
      "chang\n",
      "changer\n",
      "chang\n",
      "chang\n"
     ]
    }
   ],
   "source": [
    "print(stem.stem('change'))\n",
    "print(stem.stem('changer'))\n",
    "print(stem.stem('changed'))\n",
    "print(stem.stem('changes'))"
   ]
  },
  {
   "cell_type": "markdown",
   "id": "cd016f79",
   "metadata": {},
   "source": [
    "## Stop-Words"
   ]
  },
  {
   "cell_type": "code",
   "execution_count": 14,
   "id": "a0b8afd6",
   "metadata": {},
   "outputs": [
    {
     "name": "stderr",
     "output_type": "stream",
     "text": [
      "[nltk_data] Downloading package stopwords to C:\\Users\\Harsh\n",
      "[nltk_data]     Kapoor\\AppData\\Roaming\\nltk_data...\n",
      "[nltk_data]   Package stopwords is already up-to-date!\n"
     ]
    }
   ],
   "source": [
    "import nltk\n",
    "\n",
    "nltk.download('stopwords')\n",
    "\n",
    "from nltk.corpus import stopwords\n",
    "from nltk.tokenize import word_tokenize"
   ]
  },
  {
   "cell_type": "code",
   "execution_count": 22,
   "id": "50b8f90b",
   "metadata": {},
   "outputs": [],
   "source": [
    "txt = 'This is not the right time to talk. Can we do it now?'"
   ]
  },
  {
   "cell_type": "code",
   "execution_count": 25,
   "id": "e26be646",
   "metadata": {},
   "outputs": [
    {
     "name": "stdout",
     "output_type": "stream",
     "text": [
      "right\n",
      "time\n",
      "talk\n"
     ]
    }
   ],
   "source": [
    "for word in word_tokenize(txt):\n",
    "    if word.lower() not in stopword and len(word) > 1:\n",
    "        print(word)"
   ]
  },
  {
   "cell_type": "markdown",
   "id": "072e32c3",
   "metadata": {},
   "source": [
    "## Corpus and Vocabulary"
   ]
  },
  {
   "cell_type": "code",
   "execution_count": 48,
   "id": "dd10c7f2",
   "metadata": {},
   "outputs": [],
   "source": [
    "from nltk.corpus import stopwords\n",
    "from nltk.tokenize import word_tokenize"
   ]
  },
  {
   "cell_type": "code",
   "execution_count": 5,
   "id": "bf529610",
   "metadata": {},
   "outputs": [],
   "source": [
    "corpus = 'India, officially the Republic of India, is a country in South Asia. It is the seventh-largest country by area, the second-most populous country, and the most populous democracy in the world. Bounded by the Indian Ocean on the south, the Arabian Sea in the south-west, and the Bay of Bengal in the south-east, it shares land borders with Pakistan to the west; China, Nepal and Bhutan to the north; and Bangladesh and Myanmar to the east. In the Indian Ocean, India is in the vicinity of Sri Lanka and the Maldives; its Andaman and Nicobar Islands share a maritime border with Thailand, Myanmar and Indonesia.'"
   ]
  },
  {
   "cell_type": "code",
   "execution_count": 50,
   "id": "4b361847",
   "metadata": {},
   "outputs": [],
   "source": [
    "# Stop words removal\n",
    "\n",
    "words = []\n",
    "\n",
    "for word in word_tokenize(corpus):\n",
    "    if word.lower() not in stopwords.words('english') and len(word) > 2:\n",
    "        words.append(word)"
   ]
  },
  {
   "cell_type": "code",
   "execution_count": 51,
   "id": "3fb96d46",
   "metadata": {},
   "outputs": [
    {
     "data": {
      "text/plain": [
       "54"
      ]
     },
     "execution_count": 51,
     "metadata": {},
     "output_type": "execute_result"
    }
   ],
   "source": [
    "len(words)"
   ]
  },
  {
   "cell_type": "code",
   "execution_count": 52,
   "id": "d50f7b0e",
   "metadata": {},
   "outputs": [
    {
     "data": {
      "text/plain": [
       "46"
      ]
     },
     "execution_count": 52,
     "metadata": {},
     "output_type": "execute_result"
    }
   ],
   "source": [
    "len(set(words))"
   ]
  },
  {
   "cell_type": "markdown",
   "id": "bafd05ea",
   "metadata": {},
   "source": [
    "## Vocabulary with keras"
   ]
  },
  {
   "cell_type": "code",
   "execution_count": 56,
   "id": "74c20231",
   "metadata": {},
   "outputs": [],
   "source": [
    "from tensorflow.keras.preprocessing.text import Tokenizer\n",
    "\n",
    "tok = Tokenizer()"
   ]
  },
  {
   "cell_type": "code",
   "execution_count": 57,
   "id": "b85e79d7",
   "metadata": {},
   "outputs": [],
   "source": [
    "corp = ['coffee is hot', 'water is cold']\n",
    "\n",
    "tok.fit_on_texts(corp)"
   ]
  },
  {
   "cell_type": "code",
   "execution_count": 59,
   "id": "26fc6838",
   "metadata": {},
   "outputs": [
    {
     "data": {
      "text/plain": [
       "{'is': 1, 'coffee': 2, 'hot': 3, 'water': 4, 'cold': 5}"
      ]
     },
     "execution_count": 59,
     "metadata": {},
     "output_type": "execute_result"
    }
   ],
   "source": [
    "tok.word_index"
   ]
  },
  {
   "cell_type": "code",
   "execution_count": 60,
   "id": "ff0f4089",
   "metadata": {},
   "outputs": [
    {
     "data": {
      "text/plain": [
       "[[2, 1, 3], [4, 1, 5]]"
      ]
     },
     "execution_count": 60,
     "metadata": {},
     "output_type": "execute_result"
    }
   ],
   "source": [
    "tok.texts_to_sequences(corp)"
   ]
  },
  {
   "cell_type": "code",
   "execution_count": null,
   "id": "3edee8f4",
   "metadata": {},
   "outputs": [],
   "source": []
  },
  {
   "cell_type": "code",
   "execution_count": null,
   "id": "b8b0f9dc",
   "metadata": {},
   "outputs": [],
   "source": []
  },
  {
   "cell_type": "code",
   "execution_count": null,
   "id": "d3e5ffc7",
   "metadata": {},
   "outputs": [],
   "source": []
  },
  {
   "cell_type": "code",
   "execution_count": null,
   "id": "46b445ff",
   "metadata": {},
   "outputs": [],
   "source": []
  },
  {
   "cell_type": "code",
   "execution_count": null,
   "id": "ee814c61",
   "metadata": {},
   "outputs": [],
   "source": []
  },
  {
   "cell_type": "code",
   "execution_count": null,
   "id": "a96dbd01",
   "metadata": {},
   "outputs": [],
   "source": []
  },
  {
   "cell_type": "code",
   "execution_count": null,
   "id": "6fdeedb3",
   "metadata": {},
   "outputs": [],
   "source": []
  }
 ],
 "metadata": {
  "kernelspec": {
   "display_name": "Python 3 (ipykernel)",
   "language": "python",
   "name": "python3"
  },
  "language_info": {
   "codemirror_mode": {
    "name": "ipython",
    "version": 3
   },
   "file_extension": ".py",
   "mimetype": "text/x-python",
   "name": "python",
   "nbconvert_exporter": "python",
   "pygments_lexer": "ipython3",
   "version": "3.9.7"
  }
 },
 "nbformat": 4,
 "nbformat_minor": 5
}

{
 "cells": [
  {
   "cell_type": "code",
   "execution_count": 3,
   "id": "ddff988b",
   "metadata": {},
   "outputs": [],
   "source": [
    "from nltk.tokenize import word_tokenize\n",
    "from nltk.corpus import stopwords"
   ]
  },
  {
   "cell_type": "code",
   "execution_count": 4,
   "id": "e5e758d7",
   "metadata": {},
   "outputs": [],
   "source": [
    "corpus = 'India, officially the Republic of India, is a country in South Asia. It is the seventh-largest country by area, the second-most populous country, and the most populous democracy in the world. Bounded by the Indian Ocean on the south, the Arabian Sea in the south-west, and the Bay of Bengal in the south-east, it shares land borders with Pakistan to the west; China, Nepal and Bhutan to the north; and Bangladesh and Myanmar to the east. In the Indian Ocean, India is in the vicinity of Sri Lanka and the Maldives; its Andaman and Nicobar Islands share a maritime border with Thailand, Myanmar and Indonesia.'"
   ]
  },
  {
   "cell_type": "code",
   "execution_count": 5,
   "id": "46e9f497",
   "metadata": {},
   "outputs": [
    {
     "data": {
      "text/plain": [
       "'India, officially the Republic of India, is a country in South Asia. It is the seventh-largest country by area, the second-most populous country, and the most populous democracy in the world. Bounded by the Indian Ocean on the south, the Arabian Sea in the south-west, and the Bay of Bengal in the south-east, it shares land borders with Pakistan to the west; China, Nepal and Bhutan to the north; and Bangladesh and Myanmar to the east. In the Indian Ocean, India is in the vicinity of Sri Lanka and the Maldives; its Andaman and Nicobar Islands share a maritime border with Thailand, Myanmar and Indonesia.'"
      ]
     },
     "execution_count": 5,
     "metadata": {},
     "output_type": "execute_result"
    }
   ],
   "source": [
    "corpus"
   ]
  },
  {
   "cell_type": "markdown",
   "id": "199330b3",
   "metadata": {},
   "source": [
    "## <u> Stop Word Removal</u>"
   ]
  },
  {
   "cell_type": "code",
   "execution_count": 6,
   "id": "919fbd92",
   "metadata": {},
   "outputs": [],
   "source": [
    "words = []\n",
    "\n",
    "for word in word_tokenize(corpus):\n",
    "    if((word.lower() not in stopwords.words('english')) and (len(word) != 1)):\n",
    "        words.append(word.lower())"
   ]
  },
  {
   "cell_type": "code",
   "execution_count": 7,
   "id": "302285dd",
   "metadata": {},
   "outputs": [
    {
     "data": {
      "text/plain": [
       "['india',\n",
       " 'officially',\n",
       " 'republic',\n",
       " 'india',\n",
       " 'country',\n",
       " 'south',\n",
       " 'asia',\n",
       " 'seventh-largest',\n",
       " 'country',\n",
       " 'area',\n",
       " 'second-most',\n",
       " 'populous',\n",
       " 'country',\n",
       " 'populous',\n",
       " 'democracy',\n",
       " 'world',\n",
       " 'bounded',\n",
       " 'indian',\n",
       " 'ocean',\n",
       " 'south',\n",
       " 'arabian',\n",
       " 'sea',\n",
       " 'south-west',\n",
       " 'bay',\n",
       " 'bengal',\n",
       " 'south-east',\n",
       " 'shares',\n",
       " 'land',\n",
       " 'borders',\n",
       " 'pakistan',\n",
       " 'west',\n",
       " 'china',\n",
       " 'nepal',\n",
       " 'bhutan',\n",
       " 'north',\n",
       " 'bangladesh',\n",
       " 'myanmar',\n",
       " 'east',\n",
       " 'indian',\n",
       " 'ocean',\n",
       " 'india',\n",
       " 'vicinity',\n",
       " 'sri',\n",
       " 'lanka',\n",
       " 'maldives',\n",
       " 'andaman',\n",
       " 'nicobar',\n",
       " 'islands',\n",
       " 'share',\n",
       " 'maritime',\n",
       " 'border',\n",
       " 'thailand',\n",
       " 'myanmar',\n",
       " 'indonesia']"
      ]
     },
     "execution_count": 7,
     "metadata": {},
     "output_type": "execute_result"
    }
   ],
   "source": [
    "words"
   ]
  },
  {
   "cell_type": "code",
   "execution_count": 8,
   "id": "a87ef2a1",
   "metadata": {},
   "outputs": [
    {
     "data": {
      "text/plain": [
       "54"
      ]
     },
     "execution_count": 8,
     "metadata": {},
     "output_type": "execute_result"
    }
   ],
   "source": [
    "len(words)"
   ]
  },
  {
   "cell_type": "code",
   "execution_count": 9,
   "id": "72e20305",
   "metadata": {},
   "outputs": [
    {
     "data": {
      "text/plain": [
       "45"
      ]
     },
     "execution_count": 9,
     "metadata": {},
     "output_type": "execute_result"
    }
   ],
   "source": [
    "len(set(words))"
   ]
  },
  {
   "cell_type": "code",
   "execution_count": 10,
   "id": "5421aac4",
   "metadata": {},
   "outputs": [],
   "source": [
    "vocab = list(set(words))"
   ]
  },
  {
   "cell_type": "code",
   "execution_count": 1,
   "id": "a5fb87b1",
   "metadata": {},
   "outputs": [],
   "source": [
    "import numpy as np"
   ]
  },
  {
   "cell_type": "code",
   "execution_count": null,
   "id": "e4bc5ab6",
   "metadata": {},
   "outputs": [],
   "source": []
  }
 ],
 "metadata": {
  "kernelspec": {
   "display_name": "Python 3 (ipykernel)",
   "language": "python",
   "name": "python3"
  },
  "language_info": {
   "codemirror_mode": {
    "name": "ipython",
    "version": 3
   },
   "file_extension": ".py",
   "mimetype": "text/x-python",
   "name": "python",
   "nbconvert_exporter": "python",
   "pygments_lexer": "ipython3",
   "version": "3.9.7"
  }
 },
 "nbformat": 4,
 "nbformat_minor": 5
}

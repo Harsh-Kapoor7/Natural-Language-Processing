{
 "cells": [
  {
   "cell_type": "markdown",
   "id": "5546df98",
   "metadata": {},
   "source": [
    "### Named Entity Recognition"
   ]
  },
  {
   "cell_type": "markdown",
   "id": "44ab18cb",
   "metadata": {},
   "source": [
    "Involves identification of key information in the text and cassification in the set of predefined categories.\n",
    "An entity is basically the thing that is consistently talked about or refer to in the text. <B>NER</B> is the form of <b>NLP</b>"
   ]
  },
  {
   "cell_type": "code",
   "execution_count": 1,
   "id": "a9d6fe89",
   "metadata": {},
   "outputs": [
    {
     "name": "stderr",
     "output_type": "stream",
     "text": [
      "C:\\Users\\Harsh Kapoor\\anaconda3\\lib\\site-packages\\scipy\\__init__.py:146: UserWarning: A NumPy version >=1.16.5 and <1.23.0 is required for this version of SciPy (detected version 1.24.3\n",
      "  warnings.warn(f\"A NumPy version >={np_minversion} and <{np_maxversion}\"\n"
     ]
    }
   ],
   "source": [
    "import spacy\n",
    "nlp = spacy.load('en_core_web_sm')"
   ]
  },
  {
   "cell_type": "markdown",
   "id": "7f2c381c",
   "metadata": {},
   "source": [
    "## 1. Defining entity Function"
   ]
  },
  {
   "cell_type": "code",
   "execution_count": 2,
   "id": "708caebc",
   "metadata": {},
   "outputs": [
    {
     "data": {
      "text/plain": [
       "GFG is an Indian company which provides one of the finest education."
      ]
     },
     "execution_count": 2,
     "metadata": {},
     "output_type": "execute_result"
    }
   ],
   "source": [
    "doc = nlp('GFG is an Indian company which provides one of the finest education.')\n",
    "doc"
   ]
  },
  {
   "cell_type": "code",
   "execution_count": 3,
   "id": "cac9c77f",
   "metadata": {},
   "outputs": [
    {
     "data": {
      "text/plain": [
       "(GFG, Indian)"
      ]
     },
     "execution_count": 3,
     "metadata": {},
     "output_type": "execute_result"
    }
   ],
   "source": [
    "doc.ents"
   ]
  },
  {
   "cell_type": "code",
   "execution_count": 4,
   "id": "f5e40818",
   "metadata": {},
   "outputs": [
    {
     "name": "stdout",
     "output_type": "stream",
     "text": [
      "GFG | ORG | Companies, agencies, institutions, etc.\n",
      "Indian | NORP | Nationalities or religious or political groups\n"
     ]
    }
   ],
   "source": [
    "def show_entities(doc):\n",
    "    if doc.ents:\n",
    "        for ent in doc.ents:\n",
    "            print(ent, '|', ent.label_, '|', spacy.explain(ent.label_))\n",
    "    else:\n",
    "        print('No enities found')\n",
    "\n",
    "show_entities(doc)"
   ]
  },
  {
   "cell_type": "code",
   "execution_count": 5,
   "id": "d191d5f5",
   "metadata": {},
   "outputs": [
    {
     "name": "stdout",
     "output_type": "stream",
     "text": [
      "today | DATE | Absolute or relative dates or periods\n",
      "No enities found\n"
     ]
    }
   ],
   "source": [
    "show_entities(nlp(\"I'm not feeling well today.\"))\n",
    "show_entities(nlp(\"I'm not feeling well.\"))"
   ]
  },
  {
   "cell_type": "markdown",
   "id": "5fe826a7",
   "metadata": {},
   "source": [
    "## 2. Adding new entity - one at a time"
   ]
  },
  {
   "cell_type": "code",
   "execution_count": 14,
   "id": "00b9468a",
   "metadata": {},
   "outputs": [
    {
     "name": "stdout",
     "output_type": "stream",
     "text": [
      "Token at position 0 is already part of an entity span.\n",
      "Tesla | ORG | Companies, agencies, institutions, etc.\n"
     ]
    }
   ],
   "source": [
    "from spacy.tokens import Span as sp\n",
    "\n",
    "doc = nlp('Tesla is one of the biggets giants in the field of electric vehicles')\n",
    "\n",
    "existing_entites = [ent for ent in doc.ents if ent.start <= 0 < ent.end]\n",
    "\n",
    "if existing_entites:\n",
    "    print('Token at position 0 is already part of an entity span.')\n",
    "    \n",
    "else:\n",
    "    new_entity = sp(doc, 0, 1, label = doc.vocab.strings['ORG'])\n",
    "    doc.ents = list(doc.ents) + [new_entity]\n",
    "    \n",
    "show_entities(doc)"
   ]
  },
  {
   "cell_type": "markdown",
   "id": "8997ed72",
   "metadata": {},
   "source": [
    "## 3. Adding multiple entities at a time"
   ]
  },
  {
   "cell_type": "code",
   "execution_count": 24,
   "id": "e419554a",
   "metadata": {},
   "outputs": [
    {
     "name": "stdout",
     "output_type": "stream",
     "text": [
      "No enities found\n"
     ]
    }
   ],
   "source": [
    "from spacy.matcher import PhraseMatcher\n",
    "\n",
    "doc = nlp('Playing cricket and football is good for health')\n",
    "\n",
    "matcher = PhraseMatcher(nlp.vocab)\n",
    "phrase = ['cricket', 'football']\n",
    "pattern = [nlp(text) for text in phrase]\n",
    "\n",
    "matcher.add('Sports', None, *pattern)\n",
    "\n",
    "show_entities(doc)"
   ]
  },
  {
   "cell_type": "code",
   "execution_count": 25,
   "id": "a6e27091",
   "metadata": {},
   "outputs": [
    {
     "data": {
      "text/plain": [
       "[(9611670226552988807, 1, 2), (9611670226552988807, 3, 4)]"
      ]
     },
     "execution_count": 25,
     "metadata": {},
     "output_type": "execute_result"
    }
   ],
   "source": [
    "matcher(doc)"
   ]
  },
  {
   "cell_type": "code",
   "execution_count": null,
   "id": "38dd26a0",
   "metadata": {},
   "outputs": [],
   "source": []
  },
  {
   "cell_type": "code",
   "execution_count": null,
   "id": "aa0029ec",
   "metadata": {},
   "outputs": [],
   "source": []
  },
  {
   "cell_type": "code",
   "execution_count": null,
   "id": "f87ebd3b",
   "metadata": {},
   "outputs": [],
   "source": []
  },
  {
   "cell_type": "code",
   "execution_count": null,
   "id": "9e721d32",
   "metadata": {},
   "outputs": [],
   "source": []
  },
  {
   "cell_type": "code",
   "execution_count": null,
   "id": "44613b55",
   "metadata": {},
   "outputs": [],
   "source": []
  }
 ],
 "metadata": {
  "kernelspec": {
   "display_name": "Python 3 (ipykernel)",
   "language": "python",
   "name": "python3"
  },
  "language_info": {
   "codemirror_mode": {
    "name": "ipython",
    "version": 3
   },
   "file_extension": ".py",
   "mimetype": "text/x-python",
   "name": "python",
   "nbconvert_exporter": "python",
   "pygments_lexer": "ipython3",
   "version": "3.9.7"
  }
 },
 "nbformat": 4,
 "nbformat_minor": 5
}

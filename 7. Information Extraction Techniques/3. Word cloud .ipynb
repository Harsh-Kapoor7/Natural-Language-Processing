{
 "cells": [
  {
   "cell_type": "code",
   "execution_count": 2,
   "id": "f26bdbb8",
   "metadata": {},
   "outputs": [],
   "source": [
    "import matplotlib.pyplot as plt\n",
    "from wordcloud import WordCloud\n",
    "\n",
    "text = ''' Steven Paul Jobs was an American entrepreneur, business magnate, industrial designer, media proprietor, and investor. \n",
    "           He was the co-founder, chairman, and CEO of Apple; the chairman and majority shareholder of Pixar; a member of The \n",
    "           Walt Disney Company's board of directors following its acquisition of Pixar; and the founder, chairman, and CEO of \n",
    "           NeXT. He is widely recognized as a pioneer of the personal computer revolution of the 1970s and 1980s, along with \n",
    "           his early business partner and fellow Apple co-founder Steve Wozniak.\n",
    "\n",
    "           Jobs was born in San Francisco to a Syrian father and German-American mother. He was adopted shortly after his birth. \n",
    "           Jobs attended Reed College in 1972 before withdrawing that same year. In 1974, he traveled through India seeking \n",
    "           enlightenment before later studying Zen Buddhism. He and Wozniak co-founded Apple in 1976 to sell Wozniak's Apple \n",
    "           I personal computer. Together the duo gained fame and wealth a year later with production and sale of the Apple II, \n",
    "           one of the first highly successful mass-produced microcomputers. Jobs saw the commercial potential of the Xerox Alta \n",
    "           in 1979, which was mouse-driven and had a graphical user interface (GUI). This led to the development of the \n",
    "           unsuccessful Apple Lisa in 1983, followed by the breakthrough Macintosh in 1984, the first mass-produced computer \n",
    "           with a GUI. The Macintosh introduced the desktop publishing industry in 1985 with the addition of the Apple \n",
    "           Laserwriter, the first laser printer to feature vector graphics. '''"
   ]
  },
  {
   "cell_type": "code",
   "execution_count": 27,
   "id": "e3cba98c",
   "metadata": {},
   "outputs": [],
   "source": [
    "font_path = r'C:\\Users\\Harsh Kapoor\\OneDrive\\Documents\\courbd.ttf'"
   ]
  },
  {
   "cell_type": "code",
   "execution_count": 30,
   "id": "cef56d43",
   "metadata": {},
   "outputs": [
    {
     "ename": "SyntaxError",
     "evalue": "(unicode error) 'unicodeescape' codec can't decode bytes in position 2-3: truncated \\UXXXXXXXX escape (Temp/ipykernel_7812/1481282345.py, line 3)",
     "output_type": "error",
     "traceback": [
      "\u001b[1;36m  File \u001b[1;32m\"C:\\Users\\HARSHK~1\\AppData\\Local\\Temp/ipykernel_7812/1481282345.py\"\u001b[1;36m, line \u001b[1;32m3\u001b[0m\n\u001b[1;33m    wc = WordCloud(font_path = 'C:\\Users\\Harsh Kapoor\\OneDrive\\Documents\\courbd.ttf').generate(text)\u001b[0m\n\u001b[1;37m                                                                                    ^\u001b[0m\n\u001b[1;31mSyntaxError\u001b[0m\u001b[1;31m:\u001b[0m (unicode error) 'unicodeescape' codec can't decode bytes in position 2-3: truncated \\UXXXXXXXX escape\n"
     ]
    }
   ],
   "source": [
    "# path = r'C:\\Users\\Harsh Kapoor\\OneDrive\\Documents\\cour.ttf'\n",
    "\n",
    "wc = WordCloud(font_path = 'C:\\Users\\Harsh Kapoor\\OneDrive\\Documents\\courbd.ttf').generate(text)\n",
    "\n",
    "plt.imshow(wc)\n",
    "plt.show()"
   ]
  },
  {
   "cell_type": "code",
   "execution_count": null,
   "id": "34b45831",
   "metadata": {},
   "outputs": [],
   "source": []
  },
  {
   "cell_type": "code",
   "execution_count": null,
   "id": "a610f6a5",
   "metadata": {},
   "outputs": [],
   "source": []
  }
 ],
 "metadata": {
  "kernelspec": {
   "display_name": "Python 3 (ipykernel)",
   "language": "python",
   "name": "python3"
  },
  "language_info": {
   "codemirror_mode": {
    "name": "ipython",
    "version": 3
   },
   "file_extension": ".py",
   "mimetype": "text/x-python",
   "name": "python",
   "nbconvert_exporter": "python",
   "pygments_lexer": "ipython3",
   "version": "3.9.7"
  }
 },
 "nbformat": 4,
 "nbformat_minor": 5
}

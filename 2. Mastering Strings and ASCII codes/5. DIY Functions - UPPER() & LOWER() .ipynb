{
 "cells": [
  {
   "cell_type": "code",
   "execution_count": 4,
   "id": "8b62821e",
   "metadata": {},
   "outputs": [],
   "source": [
    "txt = 'Hello, how are you ?'"
   ]
  },
  {
   "cell_type": "markdown",
   "id": "c636ed70",
   "metadata": {},
   "source": [
    "## Uppercase Function"
   ]
  },
  {
   "cell_type": "code",
   "execution_count": 1,
   "id": "116f5894",
   "metadata": {},
   "outputs": [],
   "source": [
    "def upper(txt):\n",
    "    str = ''\n",
    "\n",
    "    for char in txt:\n",
    "        if(ord(char) >= 97 and ord(char) <= 122):\n",
    "            str += chr(ord(char) - 32)\n",
    "        else:\n",
    "            str += char\n",
    "    return str"
   ]
  },
  {
   "cell_type": "markdown",
   "id": "e0697094",
   "metadata": {},
   "source": [
    "## Lowercase Function"
   ]
  },
  {
   "cell_type": "code",
   "execution_count": 2,
   "id": "e1aa1ae1",
   "metadata": {},
   "outputs": [],
   "source": [
    "def lower(txt):\n",
    "    str = ''\n",
    "\n",
    "    for char in txt:\n",
    "        if(ord(char) >= 65 and ord(char) <= 90):\n",
    "            str += chr(ord(char) + 32)\n",
    "        else:\n",
    "            str += char\n",
    "    return str"
   ]
  },
  {
   "cell_type": "code",
   "execution_count": 8,
   "id": "0780eed6",
   "metadata": {},
   "outputs": [],
   "source": [
    "def capitilize(text):\n",
    "    if len(txt) != 0:\n",
    "        return txt[0].upper() + txt[1:].lower()\n",
    "    else:\n",
    "        return None"
   ]
  },
  {
   "cell_type": "code",
   "execution_count": 9,
   "id": "e648b94f",
   "metadata": {},
   "outputs": [
    {
     "data": {
      "text/plain": [
       "'Hello, how are you ?'"
      ]
     },
     "execution_count": 9,
     "metadata": {},
     "output_type": "execute_result"
    }
   ],
   "source": [
    "capitilize(txt)"
   ]
  },
  {
   "cell_type": "code",
   "execution_count": null,
   "id": "41765aac",
   "metadata": {},
   "outputs": [],
   "source": []
  }
 ],
 "metadata": {
  "kernelspec": {
   "display_name": "Python 3 (ipykernel)",
   "language": "python",
   "name": "python3"
  },
  "language_info": {
   "codemirror_mode": {
    "name": "ipython",
    "version": 3
   },
   "file_extension": ".py",
   "mimetype": "text/x-python",
   "name": "python",
   "nbconvert_exporter": "python",
   "pygments_lexer": "ipython3",
   "version": "3.9.7"
  }
 },
 "nbformat": 4,
 "nbformat_minor": 5
}

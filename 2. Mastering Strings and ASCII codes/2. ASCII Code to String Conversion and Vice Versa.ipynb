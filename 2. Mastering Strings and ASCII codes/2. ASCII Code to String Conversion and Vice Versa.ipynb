{
 "cells": [
  {
   "cell_type": "markdown",
   "id": "6ced9b27",
   "metadata": {},
   "source": [
    "## String to ASCII conversion"
   ]
  },
  {
   "cell_type": "code",
   "execution_count": 1,
   "id": "91cf57f6",
   "metadata": {},
   "outputs": [],
   "source": [
    "text = 'The quick brown fox jumps over the lazy dog'"
   ]
  },
  {
   "cell_type": "code",
   "execution_count": 23,
   "id": "d4810e6d",
   "metadata": {},
   "outputs": [
    {
     "data": {
      "text/plain": [
       "[{'T': 84},\n",
       " {'h': 104},\n",
       " {'e': 101},\n",
       " {' ': 32},\n",
       " {'q': 113},\n",
       " {'u': 117},\n",
       " {'i': 105},\n",
       " {'c': 99},\n",
       " {'k': 107},\n",
       " {' ': 32},\n",
       " {'b': 98},\n",
       " {'r': 114},\n",
       " {'o': 111},\n",
       " {'w': 119},\n",
       " {'n': 110},\n",
       " {' ': 32},\n",
       " {'f': 102},\n",
       " {'o': 111},\n",
       " {'x': 120},\n",
       " {' ': 32},\n",
       " {'j': 106},\n",
       " {'u': 117},\n",
       " {'m': 109},\n",
       " {'p': 112},\n",
       " {'s': 115},\n",
       " {' ': 32},\n",
       " {'o': 111},\n",
       " {'v': 118},\n",
       " {'e': 101},\n",
       " {'r': 114},\n",
       " {' ': 32},\n",
       " {'t': 116},\n",
       " {'h': 104},\n",
       " {'e': 101},\n",
       " {' ': 32},\n",
       " {'l': 108},\n",
       " {'a': 97},\n",
       " {'z': 122},\n",
       " {'y': 121},\n",
       " {' ': 32},\n",
       " {'d': 100},\n",
       " {'o': 111},\n",
       " {'g': 103}]"
      ]
     },
     "execution_count": 23,
     "metadata": {},
     "output_type": "execute_result"
    }
   ],
   "source": [
    "[{char : ord(char)} for char in text]"
   ]
  },
  {
   "cell_type": "markdown",
   "id": "35c34406",
   "metadata": {},
   "source": [
    "## ASCII to string conversion"
   ]
  },
  {
   "cell_type": "code",
   "execution_count": 9,
   "id": "604088f7",
   "metadata": {},
   "outputs": [
    {
     "data": {
      "text/plain": [
       "'_'"
      ]
     },
     "execution_count": 9,
     "metadata": {},
     "output_type": "execute_result"
    }
   ],
   "source": [
    "chr(95)"
   ]
  },
  {
   "cell_type": "code",
   "execution_count": 3,
   "id": "21f28691",
   "metadata": {},
   "outputs": [],
   "source": [
    "ascii_ = [ord(char) for char in text]"
   ]
  },
  {
   "cell_type": "code",
   "execution_count": 4,
   "id": "c63aec56",
   "metadata": {},
   "outputs": [
    {
     "data": {
      "text/plain": [
       "[84,\n",
       " 104,\n",
       " 101,\n",
       " 32,\n",
       " 113,\n",
       " 117,\n",
       " 105,\n",
       " 99,\n",
       " 107,\n",
       " 32,\n",
       " 98,\n",
       " 114,\n",
       " 111,\n",
       " 119,\n",
       " 110,\n",
       " 32,\n",
       " 102,\n",
       " 111,\n",
       " 120,\n",
       " 32,\n",
       " 106,\n",
       " 117,\n",
       " 109,\n",
       " 112,\n",
       " 115,\n",
       " 32,\n",
       " 111,\n",
       " 118,\n",
       " 101,\n",
       " 114,\n",
       " 32,\n",
       " 116,\n",
       " 104,\n",
       " 101,\n",
       " 32,\n",
       " 108,\n",
       " 97,\n",
       " 122,\n",
       " 121,\n",
       " 32,\n",
       " 100,\n",
       " 111,\n",
       " 103]"
      ]
     },
     "execution_count": 4,
     "metadata": {},
     "output_type": "execute_result"
    }
   ],
   "source": [
    "ascii_"
   ]
  },
  {
   "cell_type": "code",
   "execution_count": 5,
   "id": "4c0aa77a",
   "metadata": {},
   "outputs": [
    {
     "data": {
      "text/plain": [
       "'god yzal eht revo spmuj xof nworb kciuq ehT'"
      ]
     },
     "execution_count": 5,
     "metadata": {},
     "output_type": "execute_result"
    }
   ],
   "source": [
    "'The quick brown fox jumps over the lazy dog'[::-1]"
   ]
  },
  {
   "cell_type": "code",
   "execution_count": 7,
   "id": "11416af7",
   "metadata": {},
   "outputs": [
    {
     "data": {
      "text/plain": [
       "'The quick brown fox jumps over the lazy dog'"
      ]
     },
     "execution_count": 7,
     "metadata": {},
     "output_type": "execute_result"
    }
   ],
   "source": [
    "''.join([chr(asc) for asc in ascii_])"
   ]
  },
  {
   "cell_type": "code",
   "execution_count": null,
   "id": "a6262c34",
   "metadata": {},
   "outputs": [],
   "source": []
  },
  {
   "cell_type": "code",
   "execution_count": null,
   "id": "2d941bd7",
   "metadata": {},
   "outputs": [],
   "source": []
  }
 ],
 "metadata": {
  "kernelspec": {
   "display_name": "Python 3 (ipykernel)",
   "language": "python",
   "name": "python3"
  },
  "language_info": {
   "codemirror_mode": {
    "name": "ipython",
    "version": 3
   },
   "file_extension": ".py",
   "mimetype": "text/x-python",
   "name": "python",
   "nbconvert_exporter": "python",
   "pygments_lexer": "ipython3",
   "version": "3.9.7"
  }
 },
 "nbformat": 4,
 "nbformat_minor": 5
}

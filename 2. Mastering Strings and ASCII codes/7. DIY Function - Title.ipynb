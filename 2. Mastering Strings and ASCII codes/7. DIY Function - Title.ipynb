{
 "cells": [
  {
   "cell_type": "code",
   "execution_count": 1,
   "id": "cfb2cc5a",
   "metadata": {},
   "outputs": [],
   "source": [
    "txt = 'Hello everyone, Welcome to GFG'"
   ]
  },
  {
   "cell_type": "code",
   "execution_count": 2,
   "id": "a561dff9",
   "metadata": {},
   "outputs": [
    {
     "data": {
      "text/plain": [
       "'Hello Everyone, Welcome To Gfg'"
      ]
     },
     "execution_count": 2,
     "metadata": {},
     "output_type": "execute_result"
    }
   ],
   "source": [
    "txt.title()"
   ]
  },
  {
   "cell_type": "code",
   "execution_count": 3,
   "id": "2cee9dab",
   "metadata": {},
   "outputs": [],
   "source": [
    "def upper(text):\n",
    "    str = ''\n",
    "    \n",
    "    for char in text:\n",
    "        if(ord(char) >= 97 and ord(char) <= 122):\n",
    "            str += chr(ord(char)-32)\n",
    "        else:\n",
    "            str += char\n",
    "    return str\n",
    "\n",
    "def lower(text):\n",
    "    str = ''\n",
    "    \n",
    "    for char in text:\n",
    "        if(ord(char) >= 65 and ord(char) <= 90):\n",
    "            str += chr(ord(char) + 32)\n",
    "        else:\n",
    "            str += char\n",
    "    return str"
   ]
  },
  {
   "cell_type": "code",
   "execution_count": 4,
   "id": "701f16c5",
   "metadata": {},
   "outputs": [],
   "source": [
    "txt = 'Hello everyone, Welcome to GFG'\n",
    "\n",
    "def title(text):\n",
    "    output = []\n",
    "\n",
    "    for word in text.split(' '):\n",
    "        output.append(upper(word[0]) + lower(word[1:]))\n",
    "    return ' '.join(output)"
   ]
  },
  {
   "cell_type": "code",
   "execution_count": 5,
   "id": "ca8f1dd7",
   "metadata": {},
   "outputs": [
    {
     "data": {
      "text/plain": [
       "'Harsh Loves Arpita'"
      ]
     },
     "execution_count": 5,
     "metadata": {},
     "output_type": "execute_result"
    }
   ],
   "source": [
    "title('harsh loves arpita')"
   ]
  },
  {
   "cell_type": "code",
   "execution_count": null,
   "id": "f79e35ad",
   "metadata": {},
   "outputs": [],
   "source": []
  }
 ],
 "metadata": {
  "kernelspec": {
   "display_name": "Python 3 (ipykernel)",
   "language": "python",
   "name": "python3"
  },
  "language_info": {
   "codemirror_mode": {
    "name": "ipython",
    "version": 3
   },
   "file_extension": ".py",
   "mimetype": "text/x-python",
   "name": "python",
   "nbconvert_exporter": "python",
   "pygments_lexer": "ipython3",
   "version": "3.9.7"
  }
 },
 "nbformat": 4,
 "nbformat_minor": 5
}

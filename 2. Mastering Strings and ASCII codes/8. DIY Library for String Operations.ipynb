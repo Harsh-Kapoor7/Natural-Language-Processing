{
 "cells": [
  {
   "cell_type": "markdown",
   "id": "bcac8301",
   "metadata": {},
   "source": [
    "## 1. Calling the functions from the file"
   ]
  },
  {
   "cell_type": "code",
   "execution_count": 5,
   "id": "3d6a63ce",
   "metadata": {},
   "outputs": [],
   "source": [
    "import nlp"
   ]
  },
  {
   "cell_type": "code",
   "execution_count": 6,
   "id": "55859596",
   "metadata": {},
   "outputs": [
    {
     "ename": "AttributeError",
     "evalue": "module 'nlp' has no attribute 'capitalize'",
     "output_type": "error",
     "traceback": [
      "\u001b[1;31m---------------------------------------------------------------------------\u001b[0m",
      "\u001b[1;31mAttributeError\u001b[0m                            Traceback (most recent call last)",
      "\u001b[1;32mC:\\Users\\HARSHK~1\\AppData\\Local\\Temp/ipykernel_7676/18982212.py\u001b[0m in \u001b[0;36m<module>\u001b[1;34m\u001b[0m\n\u001b[1;32m----> 1\u001b[1;33m \u001b[0mnlp\u001b[0m\u001b[1;33m.\u001b[0m\u001b[0mcapitalize\u001b[0m\u001b[1;33m(\u001b[0m\u001b[1;34m'hello, how are you ?'\u001b[0m\u001b[1;33m)\u001b[0m\u001b[1;33m\u001b[0m\u001b[1;33m\u001b[0m\u001b[0m\n\u001b[0m",
      "\u001b[1;31mAttributeError\u001b[0m: module 'nlp' has no attribute 'capitalize'"
     ]
    }
   ],
   "source": [
    "nlp.capitalize('hello, how are you ?')"
   ]
  },
  {
   "cell_type": "markdown",
   "id": "9a689722",
   "metadata": {},
   "source": [
    "## 2. Calling only the specific function from the file "
   ]
  },
  {
   "cell_type": "code",
   "execution_count": 7,
   "id": "28542dc1",
   "metadata": {},
   "outputs": [
    {
     "ename": "ImportError",
     "evalue": "cannot import name 'title' from 'nlp' (C:\\Users\\Harsh Kapoor\\anaconda3\\lib\\site-packages\\nlp\\__init__.py)",
     "output_type": "error",
     "traceback": [
      "\u001b[1;31m---------------------------------------------------------------------------\u001b[0m",
      "\u001b[1;31mImportError\u001b[0m                               Traceback (most recent call last)",
      "\u001b[1;32mC:\\Users\\HARSHK~1\\AppData\\Local\\Temp/ipykernel_7676/934287856.py\u001b[0m in \u001b[0;36m<module>\u001b[1;34m\u001b[0m\n\u001b[1;32m----> 1\u001b[1;33m \u001b[1;32mfrom\u001b[0m \u001b[0mnlp\u001b[0m \u001b[1;32mimport\u001b[0m \u001b[0mtitle\u001b[0m\u001b[1;33m\u001b[0m\u001b[1;33m\u001b[0m\u001b[0m\n\u001b[0m",
      "\u001b[1;31mImportError\u001b[0m: cannot import name 'title' from 'nlp' (C:\\Users\\Harsh Kapoor\\anaconda3\\lib\\site-packages\\nlp\\__init__.py)"
     ]
    }
   ],
   "source": [
    "from nlp import title"
   ]
  },
  {
   "cell_type": "code",
   "execution_count": null,
   "id": "e7081c50",
   "metadata": {},
   "outputs": [],
   "source": []
  }
 ],
 "metadata": {
  "kernelspec": {
   "display_name": "Python 3 (ipykernel)",
   "language": "python",
   "name": "python3"
  },
  "language_info": {
   "codemirror_mode": {
    "name": "ipython",
    "version": 3
   },
   "file_extension": ".py",
   "mimetype": "text/x-python",
   "name": "python",
   "nbconvert_exporter": "python",
   "pygments_lexer": "ipython3",
   "version": "3.9.7"
  }
 },
 "nbformat": 4,
 "nbformat_minor": 5
}

{
 "cells": [
  {
   "cell_type": "raw",
   "id": "608d3ded",
   "metadata": {},
   "source": [
    "isalpha()     Returns true if all the characters in the string are alphabets\n",
    "isalnum()     Returns true if all the characters in the string are alphanumeric \n",
    "isdigit()     Returns true if all the characters in the string are digits\n",
    "islower()     Returns true if all the characters in the string are lower\n",
    "isupper()     Returns true if all the characters in the string are upper\n",
    "isnumeric()   Returns true if all the characters in the string are numeric"
   ]
  },
  {
   "cell_type": "markdown",
   "id": "908a6782",
   "metadata": {},
   "source": [
    "## 1. isAlpha()"
   ]
  },
  {
   "cell_type": "code",
   "execution_count": 10,
   "id": "54046d12",
   "metadata": {},
   "outputs": [],
   "source": [
    "def isalpha(text):\n",
    "    c = 0\n",
    "    for i in text:\n",
    "        if((ord(i) >= 65 and ord(i) <= 90) or (ord(i) >= 97 and ord(i) <= 122)):\n",
    "            c += 1\n",
    "    if(len(text) == c):\n",
    "        return True\n",
    "    else:\n",
    "        return False"
   ]
  },
  {
   "cell_type": "code",
   "execution_count": 11,
   "id": "d572932f",
   "metadata": {},
   "outputs": [
    {
     "data": {
      "text/plain": [
       "True"
      ]
     },
     "execution_count": 11,
     "metadata": {},
     "output_type": "execute_result"
    }
   ],
   "source": [
    "isalpha('harsh')"
   ]
  },
  {
   "cell_type": "markdown",
   "id": "85e4084a",
   "metadata": {},
   "source": [
    "## 2. isDigit()"
   ]
  },
  {
   "cell_type": "code",
   "execution_count": 13,
   "id": "57bc87e6",
   "metadata": {},
   "outputs": [],
   "source": [
    "def isdigit(text):\n",
    "    c = 0\n",
    "    for i in text:\n",
    "        if(ord(i) >= 48 and ord(i) <= 57):\n",
    "            c += 1\n",
    "    if(c == len(text)):\n",
    "        return True\n",
    "    else:\n",
    "        return False"
   ]
  },
  {
   "cell_type": "code",
   "execution_count": 16,
   "id": "36b32472",
   "metadata": {},
   "outputs": [
    {
     "data": {
      "text/plain": [
       "False"
      ]
     },
     "execution_count": 16,
     "metadata": {},
     "output_type": "execute_result"
    }
   ],
   "source": [
    "isdigit('ad45')"
   ]
  },
  {
   "cell_type": "markdown",
   "id": "0f19793f",
   "metadata": {},
   "source": [
    "## 3. isAlphaNum()"
   ]
  },
  {
   "cell_type": "code",
   "execution_count": 19,
   "id": "e8eb31bb",
   "metadata": {},
   "outputs": [],
   "source": [
    "def isalphanum(text):\n",
    "    c = 0\n",
    "    for i in text:\n",
    "        if((ord(i) >= 65 and ord(i) <= 90) or (ord(i) >= 97 and ord(i) <= 122) or (ord(i) >= 48 and ord(i) <= 57)):\n",
    "            c += 1\n",
    "    if(c == len(text)):\n",
    "        return True\n",
    "    else:\n",
    "        return False"
   ]
  },
  {
   "cell_type": "code",
   "execution_count": 20,
   "id": "d126647c",
   "metadata": {},
   "outputs": [
    {
     "data": {
      "text/plain": [
       "True"
      ]
     },
     "execution_count": 20,
     "metadata": {},
     "output_type": "execute_result"
    }
   ],
   "source": [
    "isalphanum('qafe15')"
   ]
  },
  {
   "cell_type": "code",
   "execution_count": null,
   "id": "18db50ad",
   "metadata": {},
   "outputs": [],
   "source": []
  }
 ],
 "metadata": {
  "kernelspec": {
   "display_name": "Python 3 (ipykernel)",
   "language": "python",
   "name": "python3"
  },
  "language_info": {
   "codemirror_mode": {
    "name": "ipython",
    "version": 3
   },
   "file_extension": ".py",
   "mimetype": "text/x-python",
   "name": "python",
   "nbconvert_exporter": "python",
   "pygments_lexer": "ipython3",
   "version": "3.9.7"
  }
 },
 "nbformat": 4,
 "nbformat_minor": 5
}

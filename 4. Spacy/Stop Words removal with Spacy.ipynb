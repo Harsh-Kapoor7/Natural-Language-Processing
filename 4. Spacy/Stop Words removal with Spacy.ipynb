{
 "cells": [
  {
   "cell_type": "code",
   "execution_count": 1,
   "id": "062d02ed",
   "metadata": {},
   "outputs": [],
   "source": [
    "import spacy\n",
    "nlp = spacy.load('en_core_web_sm')"
   ]
  },
  {
   "cell_type": "markdown",
   "id": "683b17ca",
   "metadata": {},
   "source": [
    "## 1. Listing all the Stop words"
   ]
  },
  {
   "cell_type": "code",
   "execution_count": 3,
   "id": "8b9ac2e7",
   "metadata": {},
   "outputs": [
    {
     "data": {
      "text/plain": [
       "326"
      ]
     },
     "execution_count": 3,
     "metadata": {},
     "output_type": "execute_result"
    }
   ],
   "source": [
    "len(nlp.Defaults.stop_words)"
   ]
  },
  {
   "cell_type": "markdown",
   "id": "57e5cd7a",
   "metadata": {},
   "source": [
    "## 2. Checking the word to be a stop_word or not "
   ]
  },
  {
   "cell_type": "code",
   "execution_count": 4,
   "id": "e9f04a66",
   "metadata": {},
   "outputs": [
    {
     "data": {
      "text/plain": [
       "True"
      ]
     },
     "execution_count": 4,
     "metadata": {},
     "output_type": "execute_result"
    }
   ],
   "source": [
    "nlp.vocab['is'].is_stop"
   ]
  },
  {
   "cell_type": "code",
   "execution_count": 5,
   "id": "ce7e8fc8",
   "metadata": {},
   "outputs": [
    {
     "data": {
      "text/plain": [
       "False"
      ]
     },
     "execution_count": 5,
     "metadata": {},
     "output_type": "execute_result"
    }
   ],
   "source": [
    "nlp.vocab['Data'].is_stop"
   ]
  },
  {
   "cell_type": "markdown",
   "id": "faca13d8",
   "metadata": {},
   "source": [
    "## 3. Adding custom words into the list of Stop_Words"
   ]
  },
  {
   "cell_type": "code",
   "execution_count": 9,
   "id": "68975a2f",
   "metadata": {},
   "outputs": [
    {
     "data": {
      "text/plain": [
       "327"
      ]
     },
     "execution_count": 9,
     "metadata": {},
     "output_type": "execute_result"
    }
   ],
   "source": [
    "len(nlp.Defaults.stop_words)"
   ]
  },
  {
   "cell_type": "code",
   "execution_count": 26,
   "id": "2ba0ea9a",
   "metadata": {},
   "outputs": [],
   "source": [
    "nlp.Defaults.stop_words.add('i.e.')\n",
    "nlp.vocab['i.e.'].is_stop = True"
   ]
  },
  {
   "cell_type": "code",
   "execution_count": 20,
   "id": "c74cb277",
   "metadata": {},
   "outputs": [
    {
     "data": {
      "text/plain": [
       "True"
      ]
     },
     "execution_count": 20,
     "metadata": {},
     "output_type": "execute_result"
    }
   ],
   "source": [
    "nlp.vocab['i.e.'].is_stop"
   ]
  },
  {
   "cell_type": "markdown",
   "id": "de2cc05e",
   "metadata": {},
   "source": [
    "## 4. Removing Custom words from the list of Stop_Words"
   ]
  },
  {
   "cell_type": "code",
   "execution_count": 27,
   "id": "d104bf36",
   "metadata": {},
   "outputs": [],
   "source": [
    "nlp.Defaults.stop_words.remove('i.e.')\n",
    "nlp.vocab['i.e.'].is_stop = False"
   ]
  },
  {
   "cell_type": "code",
   "execution_count": 22,
   "id": "43f1d9eb",
   "metadata": {},
   "outputs": [
    {
     "data": {
      "text/plain": [
       "False"
      ]
     },
     "execution_count": 22,
     "metadata": {},
     "output_type": "execute_result"
    }
   ],
   "source": [
    "nlp.vocab['i.e.'].is_stop"
   ]
  },
  {
   "cell_type": "markdown",
   "id": "ef8d5b30",
   "metadata": {},
   "source": [
    "## 5. Removing Stop_Words from corpus"
   ]
  },
  {
   "cell_type": "code",
   "execution_count": 45,
   "id": "4844dc7b",
   "metadata": {},
   "outputs": [],
   "source": [
    "txt='''\n",
    "Data science is the study of data. Like biological sciences is a study of biology, physical sciences, it’s the study of physical reactions. Data is real, data has real properties, and we need to study them if we’re going to work on them. Data Science involves data and some signs. \n",
    "\n",
    "It is a process, not an event. It is the process of using data to understand too many different things, to understand the world. Let Suppose when you have a model or proposed explanation of a problem, and you try to validate that proposed explanation or model with your data. \n",
    "\n",
    "It is the skill of unfolding the insights and trends that are hiding (or abstract) behind data. It’s when you translate data into a story. So use storytelling to generate insight. And with these insights, you can make strategic choices for a company or an institution. \n",
    "\n",
    "We can also define data science as a field that is about processes and systems to extract data of various forms and from various resources whether the data is unstructured or structured. \n",
    "The definition and the name came up in the 1980s and 1990s when some professors, IT Professionals, scientists were looking into the statistics curriculum, and they thought it would be better to call it data science and then later on data analytics derived. \n",
    "'''\n",
    "\n",
    "txt = txt.replace('\\n', '')\n",
    "txt = txt.strip()"
   ]
  },
  {
   "cell_type": "code",
   "execution_count": 46,
   "id": "3b280d9e",
   "metadata": {},
   "outputs": [
    {
     "data": {
      "text/plain": [
       "Data science is the study of data. Like biological sciences is a study of biology, physical sciences, it’s the study of physical reactions. Data is real, data has real properties, and we need to study them if we’re going to work on them. Data Science involves data and some signs. It is a process, not an event. It is the process of using data to understand too many different things, to understand the world. Let Suppose when you have a model or proposed explanation of a problem, and you try to validate that proposed explanation or model with your data. It is the skill of unfolding the insights and trends that are hiding (or abstract) behind data. It’s when you translate data into a story. So use storytelling to generate insight. And with these insights, you can make strategic choices for a company or an institution. We can also define data science as a field that is about processes and systems to extract data of various forms and from various resources whether the data is unstructured or structured. The definition and the name came up in the 1980s and 1990s when some professors, IT Professionals, scientists were looking into the statistics curriculum, and they thought it would be better to call it data science and then later on data analytics derived."
      ]
     },
     "execution_count": 46,
     "metadata": {},
     "output_type": "execute_result"
    }
   ],
   "source": [
    "corp = nlp(txt)\n",
    "corp"
   ]
  },
  {
   "cell_type": "markdown",
   "id": "443495b5",
   "metadata": {},
   "source": [
    "## 5.1. Finding Stop_Words from the Corpus"
   ]
  },
  {
   "cell_type": "code",
   "execution_count": 85,
   "id": "92b6adcd",
   "metadata": {},
   "outputs": [],
   "source": [
    "stop_word = []\n",
    "\n",
    "for token in corp:\n",
    "    if token.is_stop :\n",
    "        stop_word.append(token.text)"
   ]
  },
  {
   "cell_type": "code",
   "execution_count": 86,
   "id": "1dafa304",
   "metadata": {},
   "outputs": [
    {
     "data": {
      "text/plain": [
       "125"
      ]
     },
     "execution_count": 86,
     "metadata": {},
     "output_type": "execute_result"
    }
   ],
   "source": [
    "len(stop_word)"
   ]
  },
  {
   "cell_type": "code",
   "execution_count": 87,
   "id": "a580ebf0",
   "metadata": {},
   "outputs": [
    {
     "data": {
      "text/plain": [
       "55"
      ]
     },
     "execution_count": 87,
     "metadata": {},
     "output_type": "execute_result"
    }
   ],
   "source": [
    "len(set(stop_word))"
   ]
  },
  {
   "cell_type": "markdown",
   "id": "2874635f",
   "metadata": {},
   "source": [
    "## 5.2. Finding the words that doesn't belong to Stop_Words"
   ]
  },
  {
   "cell_type": "code",
   "execution_count": 91,
   "id": "e17dc5b1",
   "metadata": {},
   "outputs": [
    {
     "name": "stdout",
     "output_type": "stream",
     "text": [
      "Data\n",
      "science\n",
      "study\n",
      "data\n",
      ".\n",
      "Like\n",
      "biological\n",
      "sciences\n",
      "study\n",
      "biology\n",
      ",\n",
      "physical\n",
      "sciences\n",
      ",\n",
      "study\n",
      "physical\n",
      "reactions\n",
      ".\n",
      "Data\n",
      "real\n",
      ",\n",
      "data\n",
      "real\n",
      "properties\n",
      ",\n",
      "need\n",
      "study\n",
      "going\n",
      "work\n",
      ".\n",
      "Data\n",
      "Science\n",
      "involves\n",
      "data\n",
      "signs\n",
      ".\n",
      "process\n",
      ",\n",
      "event\n",
      ".\n",
      "process\n",
      "data\n",
      "understand\n",
      "different\n",
      "things\n",
      ",\n",
      "understand\n",
      "world\n",
      ".\n",
      "Let\n",
      "Suppose\n",
      "model\n",
      "proposed\n",
      "explanation\n",
      "problem\n",
      ",\n",
      "try\n",
      "validate\n",
      "proposed\n",
      "explanation\n",
      "model\n",
      "data\n",
      ".\n",
      "skill\n",
      "unfolding\n",
      "insights\n",
      "trends\n",
      "hiding\n",
      "(\n",
      "abstract\n",
      ")\n",
      "data\n",
      ".\n",
      "translate\n",
      "data\n",
      "story\n",
      ".\n",
      "use\n",
      "storytelling\n",
      "generate\n",
      "insight\n",
      ".\n",
      "insights\n",
      ",\n",
      "strategic\n",
      "choices\n",
      "company\n",
      "institution\n",
      ".\n",
      "define\n",
      "data\n",
      "science\n",
      "field\n",
      "processes\n",
      "systems\n",
      "extract\n",
      "data\n",
      "forms\n",
      "resources\n",
      "data\n",
      "unstructured\n",
      "structured\n",
      ".\n",
      "definition\n",
      "came\n",
      "1980s\n",
      "1990s\n",
      "professors\n",
      ",\n",
      "Professionals\n",
      ",\n",
      "scientists\n",
      "looking\n",
      "statistics\n",
      "curriculum\n",
      ",\n",
      "thought\n",
      "better\n",
      "data\n",
      "science\n",
      "later\n",
      "data\n",
      "analytics\n",
      "derived\n",
      ".\n"
     ]
    }
   ],
   "source": [
    "for token in corp:\n",
    "    if not token.is_stop:\n",
    "        print(token.text)"
   ]
  },
  {
   "cell_type": "code",
   "execution_count": 95,
   "id": "b9c0d8e9",
   "metadata": {},
   "outputs": [
    {
     "data": {
      "text/plain": [
       "'Data science study data . Like biological sciences study biology , physical sciences , study physical reactions . Data real , data real properties , need study going work . Data Science involves data signs . process , event . process data understand different things , understand world . Let Suppose model proposed explanation problem , try validate proposed explanation model data . skill unfolding insights trends hiding ( abstract ) data . translate data story . use storytelling generate insight . insights , strategic choices company institution . define data science field processes systems extract data forms resources data unstructured structured . definition came 1980s 1990s professors , Professionals , scientists looking statistics curriculum , thought better data science later data analytics derived .'"
      ]
     },
     "execution_count": 95,
     "metadata": {},
     "output_type": "execute_result"
    }
   ],
   "source": [
    "' '.join([token.text for token in corpus if not token.is_stop])"
   ]
  },
  {
   "cell_type": "code",
   "execution_count": null,
   "id": "d604aa8d",
   "metadata": {},
   "outputs": [],
   "source": []
  }
 ],
 "metadata": {
  "kernelspec": {
   "display_name": "Python 3 (ipykernel)",
   "language": "python",
   "name": "python3"
  },
  "language_info": {
   "codemirror_mode": {
    "name": "ipython",
    "version": 3
   },
   "file_extension": ".py",
   "mimetype": "text/x-python",
   "name": "python",
   "nbconvert_exporter": "python",
   "pygments_lexer": "ipython3",
   "version": "3.9.7"
  }
 },
 "nbformat": 4,
 "nbformat_minor": 5
}

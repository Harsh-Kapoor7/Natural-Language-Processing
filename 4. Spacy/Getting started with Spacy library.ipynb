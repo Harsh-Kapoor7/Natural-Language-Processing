{
 "cells": [
  {
   "cell_type": "code",
   "execution_count": 9,
   "id": "0490e7ab",
   "metadata": {},
   "outputs": [],
   "source": [
    "import nltk"
   ]
  },
  {
   "cell_type": "code",
   "execution_count": 10,
   "id": "4f08e8b8",
   "metadata": {},
   "outputs": [],
   "source": [
    "import spacy\n",
    "nlp = spacy.load('en_core_web_lg')"
   ]
  },
  {
   "cell_type": "markdown",
   "id": "881a7abf",
   "metadata": {},
   "source": [
    "## 1. Tokenization"
   ]
  },
  {
   "cell_type": "code",
   "execution_count": 3,
   "id": "69ed77d6",
   "metadata": {},
   "outputs": [
    {
     "name": "stdout",
     "output_type": "stream",
     "text": [
      "GFG\n",
      "is\n",
      "looking\n",
      "for\n",
      "Data\n",
      "Science\n",
      "Interns\n"
     ]
    }
   ],
   "source": [
    "text = nlp('GFG is looking for Data Science Interns')\n",
    "\n",
    "for tokens in text:\n",
    "    print(tokens)"
   ]
  },
  {
   "cell_type": "code",
   "execution_count": 4,
   "id": "1fa04d6e",
   "metadata": {},
   "outputs": [
    {
     "name": "stdout",
     "output_type": "stream",
     "text": [
      "Cost\n",
      "of\n",
      "Iphone\n",
      "in\n",
      "U.K.\n",
      "is\n",
      "699\n",
      "$\n"
     ]
    }
   ],
   "source": [
    "text = nlp('Cost of Iphone in U.K. is 699$')\n",
    "\n",
    "for tokens in text:\n",
    "    print(tokens)"
   ]
  },
  {
   "cell_type": "markdown",
   "id": "bdf49b9c",
   "metadata": {},
   "source": [
    "## 2. POS (Parts of Speech)"
   ]
  },
  {
   "cell_type": "code",
   "execution_count": 5,
   "id": "b81c42bf",
   "metadata": {},
   "outputs": [
    {
     "name": "stdout",
     "output_type": "stream",
     "text": [
      "Cost NOUN\n",
      "of ADP\n",
      "Iphone PROPN\n",
      "in ADP\n",
      "U.K. PROPN\n",
      "is AUX\n",
      "699 NUM\n",
      "$ SYM\n"
     ]
    }
   ],
   "source": [
    "text = nlp('Cost of Iphone in U.K. is 699$')\n",
    "\n",
    "for tokens in text:\n",
    "    print(tokens.text, tokens.pos_)"
   ]
  },
  {
   "cell_type": "markdown",
   "id": "b6830bc0",
   "metadata": {},
   "source": [
    "## 3. Sentance Tokenization"
   ]
  },
  {
   "cell_type": "code",
   "execution_count": 6,
   "id": "dae13862",
   "metadata": {},
   "outputs": [],
   "source": [
    "txt = nlp('This is sentance one. This is second sentance. This is Last one. Lets study now.')"
   ]
  },
  {
   "cell_type": "code",
   "execution_count": 7,
   "id": "15bef330",
   "metadata": {},
   "outputs": [
    {
     "name": "stdout",
     "output_type": "stream",
     "text": [
      "This is sentance one.\n",
      "This is second sentance.\n",
      "This is Last one.\n",
      "Lets study now.\n"
     ]
    }
   ],
   "source": [
    "for sent in txt.sents:\n",
    "    print(sent)"
   ]
  },
  {
   "cell_type": "code",
   "execution_count": 8,
   "id": "2aa32b13",
   "metadata": {},
   "outputs": [],
   "source": [
    "s='''\n",
    "Data science is the study of data. Like biological sciences is a study of biology, physical sciences, it’s the study of physical reactions. Data is real, data has real properties, and we need to study them if we’re going to work on them. Data Science involves data and some signs. \n",
    "\n",
    "It is a process, not an event. It is the process of using data to understand too many different things, to understand the world. Let Suppose when you have a model or proposed explanation of a problem, and you try to validate that proposed explanation or model with your data. \n",
    "\n",
    "It is the skill of unfolding the insights and trends that are hiding (or abstract) behind data. It’s when you translate data into a story. So use storytelling to generate insight. And with these insights, you can make strategic choices for a company or an institution. \n",
    "\n",
    "We can also define data science as a field that is about processes and systems to extract data of various forms and from various resources whether the data is unstructured or structured. \n",
    "The definition and the name came up in the 1980s and 1990s when some professors, IT Professionals, scientists were looking into the statistics curriculum, and they thought it would be better to call it data science and then later on data analytics derived. \n",
    "'''"
   ]
  },
  {
   "cell_type": "code",
   "execution_count": null,
   "id": "2a6296cb",
   "metadata": {},
   "outputs": [],
   "source": []
  },
  {
   "cell_type": "code",
   "execution_count": 21,
   "id": "0c08c8b7",
   "metadata": {},
   "outputs": [],
   "source": [
    "import nltk\n",
    "from nltk.tokenize import word_tokenize, sent_tokenize"
   ]
  },
  {
   "cell_type": "code",
   "execution_count": 15,
   "id": "e5ba4230",
   "metadata": {},
   "outputs": [],
   "source": [
    "txt = 'This is sentance one. This is second sentance. This is Last one. Lets study now.'"
   ]
  },
  {
   "cell_type": "code",
   "execution_count": 16,
   "id": "652a7f75",
   "metadata": {},
   "outputs": [
    {
     "data": {
      "text/plain": [
       "['This is sentance one.',\n",
       " 'This is second sentance.',\n",
       " 'This is Last one.',\n",
       " 'Lets study now.']"
      ]
     },
     "execution_count": 16,
     "metadata": {},
     "output_type": "execute_result"
    }
   ],
   "source": [
    "sent_tokenize(txt)"
   ]
  },
  {
   "cell_type": "code",
   "execution_count": 20,
   "id": "3f0d4910",
   "metadata": {},
   "outputs": [
    {
     "data": {
      "text/plain": [
       "['This',\n",
       " 'is',\n",
       " 'sentance',\n",
       " 'one',\n",
       " '.',\n",
       " 'This',\n",
       " 'is',\n",
       " 'second',\n",
       " 'sentance',\n",
       " '.',\n",
       " 'This',\n",
       " 'is',\n",
       " 'Last',\n",
       " 'one',\n",
       " '.',\n",
       " 'Lets',\n",
       " 'study',\n",
       " 'now',\n",
       " '.']"
      ]
     },
     "execution_count": 20,
     "metadata": {},
     "output_type": "execute_result"
    }
   ],
   "source": [
    "word_tokenize(txt)"
   ]
  },
  {
   "cell_type": "code",
   "execution_count": null,
   "id": "26ac673a",
   "metadata": {},
   "outputs": [],
   "source": []
  }
 ],
 "metadata": {
  "kernelspec": {
   "display_name": "Python 3 (ipykernel)",
   "language": "python",
   "name": "python3"
  },
  "language_info": {
   "codemirror_mode": {
    "name": "ipython",
    "version": 3
   },
   "file_extension": ".py",
   "mimetype": "text/x-python",
   "name": "python",
   "nbconvert_exporter": "python",
   "pygments_lexer": "ipython3",
   "version": "3.9.7"
  }
 },
 "nbformat": 4,
 "nbformat_minor": 5
}
